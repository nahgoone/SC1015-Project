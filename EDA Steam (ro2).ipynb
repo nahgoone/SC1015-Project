{
 "cells": [
  {
   "cell_type": "markdown",
   "id": "0046b118",
   "metadata": {},
   "source": [
    "# Exploratory Analysis and Visualisation on Steam\n",
    "***\n",
    "## Essential Libraries\n",
    "Let us begin by importing essential libraries\n",
    "> NumPy : Library for Numeric Computations in Python  \n",
    "> Pandas : Library for Data Acquisition and Preparation  \n",
    "> Matplotlib : Low-level library for Data Visualization  \n",
    "> Seaborn : Higher-level library for Data Visualization  "
   ]
  },
  {
   "cell_type": "code",
   "execution_count": 17,
   "id": "70a12afc",
   "metadata": {
    "scrolled": true
   },
   "outputs": [],
   "source": [
    "# import basic libraries\n",
    "import numpy as np\n",
    "import pandas as pd\n",
    "import matplotlib.pyplot as plt\n",
    "import seaborn as sns\n",
    "import seaborn as sb\n",
    "sb.set() # set the default Seaborn style for graphics"
   ]
  },
  {
   "cell_type": "markdown",
   "id": "3d0a680c",
   "metadata": {},
   "source": [
    "## 1. Importing Steam Dataset"
   ]
  },
  {
   "cell_type": "code",
   "execution_count": 18,
   "id": "d2e2ddf1",
   "metadata": {},
   "outputs": [
    {
     "name": "stdout",
     "output_type": "stream",
     "text": [
      "Number of Rows: 62057\n",
      "Number of Columns: 16\n"
     ]
    },
    {
     "data": {
      "text/html": [
       "<div>\n",
       "<style scoped>\n",
       "    .dataframe tbody tr th:only-of-type {\n",
       "        vertical-align: middle;\n",
       "    }\n",
       "\n",
       "    .dataframe tbody tr th {\n",
       "        vertical-align: top;\n",
       "    }\n",
       "\n",
       "    .dataframe thead th {\n",
       "        text-align: right;\n",
       "    }\n",
       "</style>\n",
       "<table border=\"1\" class=\"dataframe\">\n",
       "  <thead>\n",
       "    <tr style=\"text-align: right;\">\n",
       "      <th></th>\n",
       "      <th>appid</th>\n",
       "      <th>name</th>\n",
       "      <th>release_date</th>\n",
       "      <th>english</th>\n",
       "      <th>developer</th>\n",
       "      <th>publisher</th>\n",
       "      <th>platforms</th>\n",
       "      <th>categories</th>\n",
       "      <th>genres</th>\n",
       "      <th>steamspy_tags</th>\n",
       "      <th>positive_ratings</th>\n",
       "      <th>negative_ratings</th>\n",
       "      <th>average_playtime</th>\n",
       "      <th>median_playtime</th>\n",
       "      <th>owners</th>\n",
       "      <th>price</th>\n",
       "    </tr>\n",
       "  </thead>\n",
       "  <tbody>\n",
       "    <tr>\n",
       "      <th>0</th>\n",
       "      <td>10</td>\n",
       "      <td>Counter-Strike</td>\n",
       "      <td>01/11/2000</td>\n",
       "      <td>1</td>\n",
       "      <td>Valve</td>\n",
       "      <td>Valve</td>\n",
       "      <td>windows;mac;linux</td>\n",
       "      <td>Multi-player;PvP;Online PvP;Shared/Split Scree...</td>\n",
       "      <td>Action</td>\n",
       "      <td>Action;FPS;Multiplayer</td>\n",
       "      <td>229766</td>\n",
       "      <td>5992</td>\n",
       "      <td>9847</td>\n",
       "      <td>169</td>\n",
       "      <td>10000000-20000000</td>\n",
       "      <td>10.00</td>\n",
       "    </tr>\n",
       "    <tr>\n",
       "      <th>1</th>\n",
       "      <td>20</td>\n",
       "      <td>Team Fortress Classic</td>\n",
       "      <td>01/04/1999</td>\n",
       "      <td>1</td>\n",
       "      <td>Valve</td>\n",
       "      <td>Valve</td>\n",
       "      <td>windows;mac;linux</td>\n",
       "      <td>Multi-player;PvP;Online PvP;Shared/Split Scree...</td>\n",
       "      <td>Action</td>\n",
       "      <td>Action;FPS;Multiplayer</td>\n",
       "      <td>7005</td>\n",
       "      <td>1069</td>\n",
       "      <td>167</td>\n",
       "      <td>25</td>\n",
       "      <td>5000000-10000000</td>\n",
       "      <td>5.25</td>\n",
       "    </tr>\n",
       "    <tr>\n",
       "      <th>2</th>\n",
       "      <td>30</td>\n",
       "      <td>Day of Defeat</td>\n",
       "      <td>01/05/2003</td>\n",
       "      <td>1</td>\n",
       "      <td>Valve</td>\n",
       "      <td>Valve</td>\n",
       "      <td>windows;mac;linux</td>\n",
       "      <td>Multi-player;Valve Anti-Cheat enabled;Family S...</td>\n",
       "      <td>Action</td>\n",
       "      <td>FPS;World War II;Multiplayer</td>\n",
       "      <td>6036</td>\n",
       "      <td>664</td>\n",
       "      <td>553</td>\n",
       "      <td>17</td>\n",
       "      <td>5000000-10000000</td>\n",
       "      <td>5.25</td>\n",
       "    </tr>\n",
       "    <tr>\n",
       "      <th>3</th>\n",
       "      <td>40</td>\n",
       "      <td>Deathmatch Classic</td>\n",
       "      <td>01/06/2001</td>\n",
       "      <td>1</td>\n",
       "      <td>Valve</td>\n",
       "      <td>Valve</td>\n",
       "      <td>windows;mac;linux</td>\n",
       "      <td>Multi-player;PvP;Online PvP;Shared/Split Scree...</td>\n",
       "      <td>Action</td>\n",
       "      <td>Action;FPS;Classic</td>\n",
       "      <td>2415</td>\n",
       "      <td>511</td>\n",
       "      <td>70</td>\n",
       "      <td>13</td>\n",
       "      <td>5000000-10000000</td>\n",
       "      <td>5.25</td>\n",
       "    </tr>\n",
       "    <tr>\n",
       "      <th>4</th>\n",
       "      <td>50</td>\n",
       "      <td>Half-Life: Opposing Force</td>\n",
       "      <td>01/11/1999</td>\n",
       "      <td>1</td>\n",
       "      <td>Gearbox Software</td>\n",
       "      <td>Valve</td>\n",
       "      <td>windows;mac;linux</td>\n",
       "      <td>Single-player;Multi-player;Valve Anti-Cheat en...</td>\n",
       "      <td>Action</td>\n",
       "      <td>FPS;Action;Classic</td>\n",
       "      <td>20697</td>\n",
       "      <td>1054</td>\n",
       "      <td>406</td>\n",
       "      <td>157</td>\n",
       "      <td>2000000-5000000</td>\n",
       "      <td>5.25</td>\n",
       "    </tr>\n",
       "  </tbody>\n",
       "</table>\n",
       "</div>"
      ],
      "text/plain": [
       "   appid                       name release_date  english         developer  \\\n",
       "0     10             Counter-Strike   01/11/2000        1             Valve   \n",
       "1     20      Team Fortress Classic   01/04/1999        1             Valve   \n",
       "2     30              Day of Defeat   01/05/2003        1             Valve   \n",
       "3     40         Deathmatch Classic   01/06/2001        1             Valve   \n",
       "4     50  Half-Life: Opposing Force   01/11/1999        1  Gearbox Software   \n",
       "\n",
       "  publisher          platforms  \\\n",
       "0     Valve  windows;mac;linux   \n",
       "1     Valve  windows;mac;linux   \n",
       "2     Valve  windows;mac;linux   \n",
       "3     Valve  windows;mac;linux   \n",
       "4     Valve  windows;mac;linux   \n",
       "\n",
       "                                          categories  genres  \\\n",
       "0  Multi-player;PvP;Online PvP;Shared/Split Scree...  Action   \n",
       "1  Multi-player;PvP;Online PvP;Shared/Split Scree...  Action   \n",
       "2  Multi-player;Valve Anti-Cheat enabled;Family S...  Action   \n",
       "3  Multi-player;PvP;Online PvP;Shared/Split Scree...  Action   \n",
       "4  Single-player;Multi-player;Valve Anti-Cheat en...  Action   \n",
       "\n",
       "                  steamspy_tags  positive_ratings  negative_ratings  \\\n",
       "0        Action;FPS;Multiplayer            229766              5992   \n",
       "1        Action;FPS;Multiplayer              7005              1069   \n",
       "2  FPS;World War II;Multiplayer              6036               664   \n",
       "3            Action;FPS;Classic              2415               511   \n",
       "4            FPS;Action;Classic             20697              1054   \n",
       "\n",
       "   average_playtime  median_playtime             owners  price  \n",
       "0              9847              169  10000000-20000000  10.00  \n",
       "1               167               25   5000000-10000000   5.25  \n",
       "2               553               17   5000000-10000000   5.25  \n",
       "3                70               13   5000000-10000000   5.25  \n",
       "4               406              157    2000000-5000000   5.25  "
      ]
     },
     "execution_count": 18,
     "metadata": {},
     "output_type": "execute_result"
    }
   ],
   "source": [
    "# import the datasets\n",
    "steam = pd.read_csv('Cleaned/steam_cleaned.csv')\n",
    "print('Number of Rows: {}'.format(steam.shape[0]))\n",
    "print('Number of Columns: {}'.format(steam.shape[1]))\n",
    "steam.head()"
   ]
  },
  {
   "cell_type": "code",
   "execution_count": 19,
   "id": "5568d18a",
   "metadata": {
    "scrolled": true
   },
   "outputs": [
    {
     "data": {
      "text/plain": [
       "appid                0\n",
       "name                 0\n",
       "release_date         0\n",
       "english              0\n",
       "developer            1\n",
       "publisher           27\n",
       "platforms            0\n",
       "categories           0\n",
       "genres               0\n",
       "steamspy_tags        0\n",
       "positive_ratings     0\n",
       "negative_ratings     0\n",
       "average_playtime     0\n",
       "median_playtime      0\n",
       "owners               0\n",
       "price                0\n",
       "dtype: int64"
      ]
     },
     "execution_count": 19,
     "metadata": {},
     "output_type": "execute_result"
    }
   ],
   "source": [
    "# check for missing values\n",
    "steam.isna().sum()"
   ]
  },
  {
   "cell_type": "code",
   "execution_count": 20,
   "id": "058d90d8",
   "metadata": {
    "scrolled": true
   },
   "outputs": [
    {
     "data": {
      "text/plain": [
       "appid                 int64\n",
       "name                 object\n",
       "release_date         object\n",
       "english               int64\n",
       "developer            object\n",
       "publisher            object\n",
       "platforms            object\n",
       "categories           object\n",
       "genres               object\n",
       "steamspy_tags        object\n",
       "positive_ratings      int64\n",
       "negative_ratings      int64\n",
       "average_playtime      int64\n",
       "median_playtime       int64\n",
       "owners               object\n",
       "price               float64\n",
       "dtype: object"
      ]
     },
     "execution_count": 20,
     "metadata": {},
     "output_type": "execute_result"
    }
   ],
   "source": [
    "steam.dtypes"
   ]
  },
  {
   "cell_type": "markdown",
   "id": "108ee87d",
   "metadata": {},
   "source": [
    "## Description of the Steam Dataset\n",
    "​\n",
    "> **appid**: Unique ID for each game <br>\n",
    "> **name**: Name of each game <br>\n",
    "> **release_date**: Total games released, releases by year, highest daily releases <br>\n",
    "> **english**: Indicates (0 or 1) whether the game supports English <br>\n",
    "> **developer**: Developers that released the game <br>\n",
    "> **publisher**: Publishers that released game <br>\n",
    "> **platforms**: Operating systems the game can be played on <br>\n",
    "> **categories**: Categories of the games set by Steam <br>\n",
    "> **genres**: Most popular genres <br>\n",
    "> **steamspy_tags**: The top 3 most tags Steam users associate the game with <br>\n",
    "> **positive_ratings**: Number of positive reviews by Steam users <br>\n",
    "> **negative_ratings**: Number of negative reviews by Steam users <br>\n",
    "> **average_playtime**: Average playtime since March 2009 in minutes. <br>\n",
    "> **median_playtime**: Median playtime since March 2009 in minutes. <br>\n",
    "> **owners**: Total number of owners per game, distribution range of game owners <br>\n",
    "> **price**: Price of the game in SGD <br>"
   ]
  },
  {
   "cell_type": "code",
   "execution_count": 21,
   "id": "cdb1065a",
   "metadata": {},
   "outputs": [],
   "source": [
    "import plotly.express as px\n",
    "import plotly.figure_factory as ff"
   ]
  },
  {
   "cell_type": "markdown",
   "id": "fe042ce6",
   "metadata": {},
   "source": [
    "## 2. `platforms`\n"
   ]
  },
  {
   "cell_type": "code",
   "execution_count": 22,
   "id": "15205cae",
   "metadata": {},
   "outputs": [
    {
     "data": {
      "text/html": [
       "<div>\n",
       "<style scoped>\n",
       "    .dataframe tbody tr th:only-of-type {\n",
       "        vertical-align: middle;\n",
       "    }\n",
       "\n",
       "    .dataframe tbody tr th {\n",
       "        vertical-align: top;\n",
       "    }\n",
       "\n",
       "    .dataframe thead th {\n",
       "        text-align: right;\n",
       "    }\n",
       "</style>\n",
       "<table border=\"1\" class=\"dataframe\">\n",
       "  <thead>\n",
       "    <tr style=\"text-align: right;\">\n",
       "      <th></th>\n",
       "      <th>count</th>\n",
       "    </tr>\n",
       "    <tr>\n",
       "      <th>platforms</th>\n",
       "      <th></th>\n",
       "    </tr>\n",
       "  </thead>\n",
       "  <tbody>\n",
       "    <tr>\n",
       "      <th>windows</th>\n",
       "      <td>46217</td>\n",
       "    </tr>\n",
       "    <tr>\n",
       "      <th>windows;mac;linux</th>\n",
       "      <td>7334</td>\n",
       "    </tr>\n",
       "    <tr>\n",
       "      <th>windows;mac</th>\n",
       "      <td>6448</td>\n",
       "    </tr>\n",
       "    <tr>\n",
       "      <th>windows;linux</th>\n",
       "      <td>2049</td>\n",
       "    </tr>\n",
       "    <tr>\n",
       "      <th>linux</th>\n",
       "      <td>4</td>\n",
       "    </tr>\n",
       "    <tr>\n",
       "      <th>mac</th>\n",
       "      <td>4</td>\n",
       "    </tr>\n",
       "    <tr>\n",
       "      <th>mac;linux</th>\n",
       "      <td>1</td>\n",
       "    </tr>\n",
       "  </tbody>\n",
       "</table>\n",
       "</div>"
      ],
      "text/plain": [
       "                   count\n",
       "platforms               \n",
       "windows            46217\n",
       "windows;mac;linux   7334\n",
       "windows;mac         6448\n",
       "windows;linux       2049\n",
       "linux                  4\n",
       "mac                    4\n",
       "mac;linux              1"
      ]
     },
     "execution_count": 22,
     "metadata": {},
     "output_type": "execute_result"
    }
   ],
   "source": [
    "# examine platforms\n",
    "platforms = pd.DataFrame(steam['platforms'].value_counts())\n",
    "platforms"
   ]
  },
  {
   "cell_type": "markdown",
   "id": "6e3d7605",
   "metadata": {},
   "source": [
    "## 2.1 Visualisation with Venn Diagram\n",
    "- Most games are supported by the `Windows` platform.\n",
    "- Due to overlapping between categories, instead of a bar chart we can use a **Venn diagram** for better overall visualisation.\n",
    "- We will use `matplotlib-venn` module to build the Venn diagram #- pip install matplotlib-venn\n",
    "> Note: plotting the **Venn Diagram**, the label positions would be:\n",
    "> - '01': Label for the intersection of `Windows` and `Mac`.\n",
    "> - '001': Label for the intersection of `Mac` and `Linux`.\n",
    "> - '101': Label for the intersection of `Windows` and `Linux`.\n",
    "> - '110': Label for the intersection of all three platforms (`Windows`, `Mac`, and `Linux`).\n",
    "> - 'A': Label for platforms only on `Windows`.\n",
    "> - 'B': Label for platforms only on `Mac`.\n",
    "> - 'C': Label for platforms only on `Linux`.\n"
   ]
  },
  {
   "cell_type": "code",
   "execution_count": 23,
   "id": "4f5ead43",
   "metadata": {
    "scrolled": true
   },
   "outputs": [
    {
     "ename": "KeyError",
     "evalue": "'platforms'",
     "output_type": "error",
     "traceback": [
      "\u001b[1;31m---------------------------------------------------------------------------\u001b[0m",
      "\u001b[1;31mKeyError\u001b[0m                                  Traceback (most recent call last)",
      "File \u001b[1;32mC:\\ProgramData\\anaconda3\\Lib\\site-packages\\pandas\\core\\indexes\\base.py:3791\u001b[0m, in \u001b[0;36mIndex.get_loc\u001b[1;34m(self, key)\u001b[0m\n\u001b[0;32m   3790\u001b[0m \u001b[38;5;28;01mtry\u001b[39;00m:\n\u001b[1;32m-> 3791\u001b[0m     \u001b[38;5;28;01mreturn\u001b[39;00m \u001b[38;5;28mself\u001b[39m\u001b[38;5;241m.\u001b[39m_engine\u001b[38;5;241m.\u001b[39mget_loc(casted_key)\n\u001b[0;32m   3792\u001b[0m \u001b[38;5;28;01mexcept\u001b[39;00m \u001b[38;5;167;01mKeyError\u001b[39;00m \u001b[38;5;28;01mas\u001b[39;00m err:\n",
      "File \u001b[1;32mindex.pyx:152\u001b[0m, in \u001b[0;36mpandas._libs.index.IndexEngine.get_loc\u001b[1;34m()\u001b[0m\n",
      "File \u001b[1;32mindex.pyx:181\u001b[0m, in \u001b[0;36mpandas._libs.index.IndexEngine.get_loc\u001b[1;34m()\u001b[0m\n",
      "File \u001b[1;32mpandas\\_libs\\hashtable_class_helper.pxi:7080\u001b[0m, in \u001b[0;36mpandas._libs.hashtable.PyObjectHashTable.get_item\u001b[1;34m()\u001b[0m\n",
      "File \u001b[1;32mpandas\\_libs\\hashtable_class_helper.pxi:7088\u001b[0m, in \u001b[0;36mpandas._libs.hashtable.PyObjectHashTable.get_item\u001b[1;34m()\u001b[0m\n",
      "\u001b[1;31mKeyError\u001b[0m: 'platforms'",
      "\nThe above exception was the direct cause of the following exception:\n",
      "\u001b[1;31mKeyError\u001b[0m                                  Traceback (most recent call last)",
      "Cell \u001b[1;32mIn[23], line 2\u001b[0m\n\u001b[0;32m      1\u001b[0m \u001b[38;5;66;03m# assign values to the subset\u001b[39;00m\n\u001b[1;32m----> 2\u001b[0m venn_subsets \u001b[38;5;241m=\u001b[39m (platforms\u001b[38;5;241m.\u001b[39mloc[\u001b[38;5;124m'\u001b[39m\u001b[38;5;124mwindows\u001b[39m\u001b[38;5;124m'\u001b[39m][\u001b[38;5;124m'\u001b[39m\u001b[38;5;124mplatforms\u001b[39m\u001b[38;5;124m'\u001b[39m], \n\u001b[0;32m      3\u001b[0m                 platforms\u001b[38;5;241m.\u001b[39mloc[\u001b[38;5;124m'\u001b[39m\u001b[38;5;124mmac\u001b[39m\u001b[38;5;124m'\u001b[39m][\u001b[38;5;124m'\u001b[39m\u001b[38;5;124mplatforms\u001b[39m\u001b[38;5;124m'\u001b[39m], \n\u001b[0;32m      4\u001b[0m                 platforms\u001b[38;5;241m.\u001b[39mloc[\u001b[38;5;124m'\u001b[39m\u001b[38;5;124mwindows;mac\u001b[39m\u001b[38;5;124m'\u001b[39m][\u001b[38;5;124m'\u001b[39m\u001b[38;5;124mplatforms\u001b[39m\u001b[38;5;124m'\u001b[39m], \n\u001b[0;32m      5\u001b[0m                 platforms\u001b[38;5;241m.\u001b[39mloc[\u001b[38;5;124m'\u001b[39m\u001b[38;5;124mlinux\u001b[39m\u001b[38;5;124m'\u001b[39m][\u001b[38;5;124m'\u001b[39m\u001b[38;5;124mplatforms\u001b[39m\u001b[38;5;124m'\u001b[39m], \n\u001b[0;32m      6\u001b[0m                 platforms\u001b[38;5;241m.\u001b[39mloc[\u001b[38;5;124m'\u001b[39m\u001b[38;5;124mwindows;linux\u001b[39m\u001b[38;5;124m'\u001b[39m][\u001b[38;5;124m'\u001b[39m\u001b[38;5;124mplatforms\u001b[39m\u001b[38;5;124m'\u001b[39m], \n\u001b[0;32m      7\u001b[0m                 platforms\u001b[38;5;241m.\u001b[39mloc[\u001b[38;5;124m'\u001b[39m\u001b[38;5;124mmac;linux\u001b[39m\u001b[38;5;124m'\u001b[39m][\u001b[38;5;124m'\u001b[39m\u001b[38;5;124mplatforms\u001b[39m\u001b[38;5;124m'\u001b[39m], \n\u001b[0;32m      8\u001b[0m                 platforms\u001b[38;5;241m.\u001b[39mloc[\u001b[38;5;124m'\u001b[39m\u001b[38;5;124mwindows;mac;linux\u001b[39m\u001b[38;5;124m'\u001b[39m][\u001b[38;5;124m'\u001b[39m\u001b[38;5;124mplatforms\u001b[39m\u001b[38;5;124m'\u001b[39m])\n",
      "File \u001b[1;32mC:\\ProgramData\\anaconda3\\Lib\\site-packages\\pandas\\core\\series.py:1040\u001b[0m, in \u001b[0;36mSeries.__getitem__\u001b[1;34m(self, key)\u001b[0m\n\u001b[0;32m   1037\u001b[0m     \u001b[38;5;28;01mreturn\u001b[39;00m \u001b[38;5;28mself\u001b[39m\u001b[38;5;241m.\u001b[39m_values[key]\n\u001b[0;32m   1039\u001b[0m \u001b[38;5;28;01melif\u001b[39;00m key_is_scalar:\n\u001b[1;32m-> 1040\u001b[0m     \u001b[38;5;28;01mreturn\u001b[39;00m \u001b[38;5;28mself\u001b[39m\u001b[38;5;241m.\u001b[39m_get_value(key)\n\u001b[0;32m   1042\u001b[0m \u001b[38;5;66;03m# Convert generator to list before going through hashable part\u001b[39;00m\n\u001b[0;32m   1043\u001b[0m \u001b[38;5;66;03m# (We will iterate through the generator there to check for slices)\u001b[39;00m\n\u001b[0;32m   1044\u001b[0m \u001b[38;5;28;01mif\u001b[39;00m is_iterator(key):\n",
      "File \u001b[1;32mC:\\ProgramData\\anaconda3\\Lib\\site-packages\\pandas\\core\\series.py:1156\u001b[0m, in \u001b[0;36mSeries._get_value\u001b[1;34m(self, label, takeable)\u001b[0m\n\u001b[0;32m   1153\u001b[0m     \u001b[38;5;28;01mreturn\u001b[39;00m \u001b[38;5;28mself\u001b[39m\u001b[38;5;241m.\u001b[39m_values[label]\n\u001b[0;32m   1155\u001b[0m \u001b[38;5;66;03m# Similar to Index.get_value, but we do not fall back to positional\u001b[39;00m\n\u001b[1;32m-> 1156\u001b[0m loc \u001b[38;5;241m=\u001b[39m \u001b[38;5;28mself\u001b[39m\u001b[38;5;241m.\u001b[39mindex\u001b[38;5;241m.\u001b[39mget_loc(label)\n\u001b[0;32m   1158\u001b[0m \u001b[38;5;28;01mif\u001b[39;00m is_integer(loc):\n\u001b[0;32m   1159\u001b[0m     \u001b[38;5;28;01mreturn\u001b[39;00m \u001b[38;5;28mself\u001b[39m\u001b[38;5;241m.\u001b[39m_values[loc]\n",
      "File \u001b[1;32mC:\\ProgramData\\anaconda3\\Lib\\site-packages\\pandas\\core\\indexes\\base.py:3798\u001b[0m, in \u001b[0;36mIndex.get_loc\u001b[1;34m(self, key)\u001b[0m\n\u001b[0;32m   3793\u001b[0m     \u001b[38;5;28;01mif\u001b[39;00m \u001b[38;5;28misinstance\u001b[39m(casted_key, \u001b[38;5;28mslice\u001b[39m) \u001b[38;5;129;01mor\u001b[39;00m (\n\u001b[0;32m   3794\u001b[0m         \u001b[38;5;28misinstance\u001b[39m(casted_key, abc\u001b[38;5;241m.\u001b[39mIterable)\n\u001b[0;32m   3795\u001b[0m         \u001b[38;5;129;01mand\u001b[39;00m \u001b[38;5;28many\u001b[39m(\u001b[38;5;28misinstance\u001b[39m(x, \u001b[38;5;28mslice\u001b[39m) \u001b[38;5;28;01mfor\u001b[39;00m x \u001b[38;5;129;01min\u001b[39;00m casted_key)\n\u001b[0;32m   3796\u001b[0m     ):\n\u001b[0;32m   3797\u001b[0m         \u001b[38;5;28;01mraise\u001b[39;00m InvalidIndexError(key)\n\u001b[1;32m-> 3798\u001b[0m     \u001b[38;5;28;01mraise\u001b[39;00m \u001b[38;5;167;01mKeyError\u001b[39;00m(key) \u001b[38;5;28;01mfrom\u001b[39;00m \u001b[38;5;21;01merr\u001b[39;00m\n\u001b[0;32m   3799\u001b[0m \u001b[38;5;28;01mexcept\u001b[39;00m \u001b[38;5;167;01mTypeError\u001b[39;00m:\n\u001b[0;32m   3800\u001b[0m     \u001b[38;5;66;03m# If we have a listlike key, _check_indexing_error will raise\u001b[39;00m\n\u001b[0;32m   3801\u001b[0m     \u001b[38;5;66;03m#  InvalidIndexError. Otherwise we fall through and re-raise\u001b[39;00m\n\u001b[0;32m   3802\u001b[0m     \u001b[38;5;66;03m#  the TypeError.\u001b[39;00m\n\u001b[0;32m   3803\u001b[0m     \u001b[38;5;28mself\u001b[39m\u001b[38;5;241m.\u001b[39m_check_indexing_error(key)\n",
      "\u001b[1;31mKeyError\u001b[0m: 'platforms'"
     ]
    }
   ],
   "source": [
    "# assign values to the subset\n",
    "venn_subsets = (platforms.loc['windows']['platforms'], \n",
    "                platforms.loc['mac']['platforms'], \n",
    "                platforms.loc['windows;mac']['platforms'], \n",
    "                platforms.loc['linux']['platforms'], \n",
    "                platforms.loc['windows;linux']['platforms'], \n",
    "                platforms.loc['mac;linux']['platforms'], \n",
    "                platforms.loc['windows;mac;linux']['platforms'])"
   ]
  },
  {
   "cell_type": "code",
   "execution_count": null,
   "id": "994899f0-c1c4-4456-b1cb-fe55d4e4ed1b",
   "metadata": {},
   "outputs": [],
   "source": []
  },
  {
   "cell_type": "code",
   "execution_count": 10,
   "id": "d3156728",
   "metadata": {},
   "outputs": [
    {
     "ename": "KeyError",
     "evalue": "'platforms'",
     "output_type": "error",
     "traceback": [
      "\u001b[1;31m---------------------------------------------------------------------------\u001b[0m",
      "\u001b[1;31mKeyError\u001b[0m                                  Traceback (most recent call last)",
      "File \u001b[1;32mC:\\ProgramData\\anaconda3\\Lib\\site-packages\\pandas\\core\\indexes\\base.py:3791\u001b[0m, in \u001b[0;36mIndex.get_loc\u001b[1;34m(self, key)\u001b[0m\n\u001b[0;32m   3790\u001b[0m \u001b[38;5;28;01mtry\u001b[39;00m:\n\u001b[1;32m-> 3791\u001b[0m     \u001b[38;5;28;01mreturn\u001b[39;00m \u001b[38;5;28mself\u001b[39m\u001b[38;5;241m.\u001b[39m_engine\u001b[38;5;241m.\u001b[39mget_loc(casted_key)\n\u001b[0;32m   3792\u001b[0m \u001b[38;5;28;01mexcept\u001b[39;00m \u001b[38;5;167;01mKeyError\u001b[39;00m \u001b[38;5;28;01mas\u001b[39;00m err:\n",
      "File \u001b[1;32mindex.pyx:152\u001b[0m, in \u001b[0;36mpandas._libs.index.IndexEngine.get_loc\u001b[1;34m()\u001b[0m\n",
      "File \u001b[1;32mindex.pyx:181\u001b[0m, in \u001b[0;36mpandas._libs.index.IndexEngine.get_loc\u001b[1;34m()\u001b[0m\n",
      "File \u001b[1;32mpandas\\_libs\\hashtable_class_helper.pxi:7080\u001b[0m, in \u001b[0;36mpandas._libs.hashtable.PyObjectHashTable.get_item\u001b[1;34m()\u001b[0m\n",
      "File \u001b[1;32mpandas\\_libs\\hashtable_class_helper.pxi:7088\u001b[0m, in \u001b[0;36mpandas._libs.hashtable.PyObjectHashTable.get_item\u001b[1;34m()\u001b[0m\n",
      "\u001b[1;31mKeyError\u001b[0m: 'platforms'",
      "\nThe above exception was the direct cause of the following exception:\n",
      "\u001b[1;31mKeyError\u001b[0m                                  Traceback (most recent call last)",
      "Cell \u001b[1;32mIn[10], line 8\u001b[0m\n\u001b[0;32m      5\u001b[0m plt\u001b[38;5;241m.\u001b[39mfigure(figsize\u001b[38;5;241m=\u001b[39m(\u001b[38;5;241m10\u001b[39m, \u001b[38;5;241m10\u001b[39m))\n\u001b[0;32m      7\u001b[0m \u001b[38;5;66;03m# Define the subsets for the Venn diagram\u001b[39;00m\n\u001b[1;32m----> 8\u001b[0m venn_subsets \u001b[38;5;241m=\u001b[39m (platforms\u001b[38;5;241m.\u001b[39mloc[\u001b[38;5;124m'\u001b[39m\u001b[38;5;124mwindows\u001b[39m\u001b[38;5;124m'\u001b[39m][\u001b[38;5;124m'\u001b[39m\u001b[38;5;124mplatforms\u001b[39m\u001b[38;5;124m'\u001b[39m], \n\u001b[0;32m      9\u001b[0m                 platforms\u001b[38;5;241m.\u001b[39mloc[\u001b[38;5;124m'\u001b[39m\u001b[38;5;124mmac\u001b[39m\u001b[38;5;124m'\u001b[39m][\u001b[38;5;124m'\u001b[39m\u001b[38;5;124mplatforms\u001b[39m\u001b[38;5;124m'\u001b[39m], \n\u001b[0;32m     10\u001b[0m                 platforms\u001b[38;5;241m.\u001b[39mloc[\u001b[38;5;124m'\u001b[39m\u001b[38;5;124mwindows;mac\u001b[39m\u001b[38;5;124m'\u001b[39m][\u001b[38;5;124m'\u001b[39m\u001b[38;5;124mplatforms\u001b[39m\u001b[38;5;124m'\u001b[39m], \n\u001b[0;32m     11\u001b[0m                 platforms\u001b[38;5;241m.\u001b[39mloc[\u001b[38;5;124m'\u001b[39m\u001b[38;5;124mlinux\u001b[39m\u001b[38;5;124m'\u001b[39m][\u001b[38;5;124m'\u001b[39m\u001b[38;5;124mplatforms\u001b[39m\u001b[38;5;124m'\u001b[39m], \n\u001b[0;32m     12\u001b[0m                 platforms\u001b[38;5;241m.\u001b[39mloc[\u001b[38;5;124m'\u001b[39m\u001b[38;5;124mwindows;linux\u001b[39m\u001b[38;5;124m'\u001b[39m][\u001b[38;5;124m'\u001b[39m\u001b[38;5;124mplatforms\u001b[39m\u001b[38;5;124m'\u001b[39m], \n\u001b[0;32m     13\u001b[0m                 platforms\u001b[38;5;241m.\u001b[39mloc[\u001b[38;5;124m'\u001b[39m\u001b[38;5;124mmac;linux\u001b[39m\u001b[38;5;124m'\u001b[39m][\u001b[38;5;124m'\u001b[39m\u001b[38;5;124mplatforms\u001b[39m\u001b[38;5;124m'\u001b[39m], \n\u001b[0;32m     14\u001b[0m                 platforms\u001b[38;5;241m.\u001b[39mloc[\u001b[38;5;124m'\u001b[39m\u001b[38;5;124mwindows;mac;linux\u001b[39m\u001b[38;5;124m'\u001b[39m][\u001b[38;5;124m'\u001b[39m\u001b[38;5;124mplatforms\u001b[39m\u001b[38;5;124m'\u001b[39m])\n\u001b[0;32m     16\u001b[0m \u001b[38;5;66;03m# Plot the Venn diagram\u001b[39;00m\n\u001b[0;32m     17\u001b[0m vd \u001b[38;5;241m=\u001b[39m venn3(subsets\u001b[38;5;241m=\u001b[39mvenn_subsets, set_labels\u001b[38;5;241m=\u001b[39m(\u001b[38;5;124m'\u001b[39m\u001b[38;5;124mWindows\u001b[39m\u001b[38;5;124m'\u001b[39m, \u001b[38;5;124m'\u001b[39m\u001b[38;5;124mMac\u001b[39m\u001b[38;5;124m'\u001b[39m, \u001b[38;5;124m'\u001b[39m\u001b[38;5;124mLinux\u001b[39m\u001b[38;5;124m'\u001b[39m))\n",
      "File \u001b[1;32mC:\\ProgramData\\anaconda3\\Lib\\site-packages\\pandas\\core\\series.py:1040\u001b[0m, in \u001b[0;36mSeries.__getitem__\u001b[1;34m(self, key)\u001b[0m\n\u001b[0;32m   1037\u001b[0m     \u001b[38;5;28;01mreturn\u001b[39;00m \u001b[38;5;28mself\u001b[39m\u001b[38;5;241m.\u001b[39m_values[key]\n\u001b[0;32m   1039\u001b[0m \u001b[38;5;28;01melif\u001b[39;00m key_is_scalar:\n\u001b[1;32m-> 1040\u001b[0m     \u001b[38;5;28;01mreturn\u001b[39;00m \u001b[38;5;28mself\u001b[39m\u001b[38;5;241m.\u001b[39m_get_value(key)\n\u001b[0;32m   1042\u001b[0m \u001b[38;5;66;03m# Convert generator to list before going through hashable part\u001b[39;00m\n\u001b[0;32m   1043\u001b[0m \u001b[38;5;66;03m# (We will iterate through the generator there to check for slices)\u001b[39;00m\n\u001b[0;32m   1044\u001b[0m \u001b[38;5;28;01mif\u001b[39;00m is_iterator(key):\n",
      "File \u001b[1;32mC:\\ProgramData\\anaconda3\\Lib\\site-packages\\pandas\\core\\series.py:1156\u001b[0m, in \u001b[0;36mSeries._get_value\u001b[1;34m(self, label, takeable)\u001b[0m\n\u001b[0;32m   1153\u001b[0m     \u001b[38;5;28;01mreturn\u001b[39;00m \u001b[38;5;28mself\u001b[39m\u001b[38;5;241m.\u001b[39m_values[label]\n\u001b[0;32m   1155\u001b[0m \u001b[38;5;66;03m# Similar to Index.get_value, but we do not fall back to positional\u001b[39;00m\n\u001b[1;32m-> 1156\u001b[0m loc \u001b[38;5;241m=\u001b[39m \u001b[38;5;28mself\u001b[39m\u001b[38;5;241m.\u001b[39mindex\u001b[38;5;241m.\u001b[39mget_loc(label)\n\u001b[0;32m   1158\u001b[0m \u001b[38;5;28;01mif\u001b[39;00m is_integer(loc):\n\u001b[0;32m   1159\u001b[0m     \u001b[38;5;28;01mreturn\u001b[39;00m \u001b[38;5;28mself\u001b[39m\u001b[38;5;241m.\u001b[39m_values[loc]\n",
      "File \u001b[1;32mC:\\ProgramData\\anaconda3\\Lib\\site-packages\\pandas\\core\\indexes\\base.py:3798\u001b[0m, in \u001b[0;36mIndex.get_loc\u001b[1;34m(self, key)\u001b[0m\n\u001b[0;32m   3793\u001b[0m     \u001b[38;5;28;01mif\u001b[39;00m \u001b[38;5;28misinstance\u001b[39m(casted_key, \u001b[38;5;28mslice\u001b[39m) \u001b[38;5;129;01mor\u001b[39;00m (\n\u001b[0;32m   3794\u001b[0m         \u001b[38;5;28misinstance\u001b[39m(casted_key, abc\u001b[38;5;241m.\u001b[39mIterable)\n\u001b[0;32m   3795\u001b[0m         \u001b[38;5;129;01mand\u001b[39;00m \u001b[38;5;28many\u001b[39m(\u001b[38;5;28misinstance\u001b[39m(x, \u001b[38;5;28mslice\u001b[39m) \u001b[38;5;28;01mfor\u001b[39;00m x \u001b[38;5;129;01min\u001b[39;00m casted_key)\n\u001b[0;32m   3796\u001b[0m     ):\n\u001b[0;32m   3797\u001b[0m         \u001b[38;5;28;01mraise\u001b[39;00m InvalidIndexError(key)\n\u001b[1;32m-> 3798\u001b[0m     \u001b[38;5;28;01mraise\u001b[39;00m \u001b[38;5;167;01mKeyError\u001b[39;00m(key) \u001b[38;5;28;01mfrom\u001b[39;00m \u001b[38;5;21;01merr\u001b[39;00m\n\u001b[0;32m   3799\u001b[0m \u001b[38;5;28;01mexcept\u001b[39;00m \u001b[38;5;167;01mTypeError\u001b[39;00m:\n\u001b[0;32m   3800\u001b[0m     \u001b[38;5;66;03m# If we have a listlike key, _check_indexing_error will raise\u001b[39;00m\n\u001b[0;32m   3801\u001b[0m     \u001b[38;5;66;03m#  InvalidIndexError. Otherwise we fall through and re-raise\u001b[39;00m\n\u001b[0;32m   3802\u001b[0m     \u001b[38;5;66;03m#  the TypeError.\u001b[39;00m\n\u001b[0;32m   3803\u001b[0m     \u001b[38;5;28mself\u001b[39m\u001b[38;5;241m.\u001b[39m_check_indexing_error(key)\n",
      "\u001b[1;31mKeyError\u001b[0m: 'platforms'"
     ]
    },
    {
     "data": {
      "text/plain": [
       "<Figure size 1000x1000 with 0 Axes>"
      ]
     },
     "metadata": {},
     "output_type": "display_data"
    }
   ],
   "source": [
    "# plot the Venn diagram for platforms\n",
    "from matplotlib_venn import venn3, venn3_circles\n",
    "import matplotlib.pyplot as plt\n",
    "\n",
    "plt.figure(figsize=(10, 10))\n",
    "\n",
    "# Define the subsets for the Venn diagram\n",
    "venn_subsets = (platforms.loc['windows'], \n",
    "                platforms.loc['mac'], \n",
    "                platforms.loc['windows;mac'], \n",
    "                platforms.loc['linux']['platforms'], \n",
    "                platforms.loc['windows;linux']['platforms'], \n",
    "                platforms.loc['mac;linux']['platforms'], \n",
    "                platforms.loc['windows;mac;linux']['platforms'])\n",
    "\n",
    "# Plot the Venn diagram\n",
    "vd = venn3(subsets=venn_subsets, set_labels=('Windows', 'Mac', 'Linux'))\n",
    "\n",
    "# Outline the circles\n",
    "venn3_circles(subsets=venn_subsets, linestyle='dashed', linewidth=1)\n",
    "\n",
    "# Adjust label positions\n",
    "label_positions = {\n",
    "    '01': (0.02, 0),\n",
    "    '001': (0.02, 0),\n",
    "    '101': (0.05, -0.01),\n",
    "    '110': (0.1, 0.02),\n",
    "    'A': (0, -0.5),\n",
    "    'B': (-0.25, -0.12),\n",
    "    'C': (-0.05, 0.08)\n",
    "}\n",
    "\n",
    "for label_id, (dx, dy) in label_positions.items():\n",
    "    lbl = vd.get_label_by_id(label_id)\n",
    "    x, y = lbl.get_position()\n",
    "    lbl.set_position((x + dx, y + dy))\n",
    "\n",
    "# Set title\n",
    "plt.title('Steam Game Platforms')\n",
    "\n",
    "# Show the plot\n",
    "plt.show()\n"
   ]
  },
  {
   "cell_type": "markdown",
   "id": "f0ae9ba4",
   "metadata": {},
   "source": [
    "## 2.2 Observation and Analysis: Platforms\n",
    "This is an expected observation as most people's Operating System is windows.\n",
    "\n",
    "- Windows Dominance: Windows is the clear favorite OS for Steam users, likely due to its larger user base among gamers.\n",
    "- Limited Mac/Linux Support: Mac and Linux user bases are significantly smaller, potentially reflecting fewer games supporting these platforms.\n",
    "- Market Dynamics: Game developers prioritize Windows compatibility to reach a wider audience, further reinforcing Windows' dominance in the Steam gaming market."
   ]
  },
  {
   "cell_type": "markdown",
   "id": "47af663c",
   "metadata": {},
   "source": [
    "## 3 Categories\n",
    "Since `categories` are separated by semicolons, similar to platforms, we'll need to split them into lists for better analysis."
   ]
  },
  {
   "cell_type": "code",
   "execution_count": null,
   "id": "db00d213",
   "metadata": {},
   "outputs": [],
   "source": [
    "steam['categories'].head()"
   ]
  },
  {
   "cell_type": "code",
   "execution_count": null,
   "id": "109fc48f",
   "metadata": {},
   "outputs": [],
   "source": [
    "# Split categories into lists\n",
    "steam['categories'] = steam['categories'].str.split(';')"
   ]
  },
  {
   "cell_type": "markdown",
   "id": "23dc8fcc",
   "metadata": {},
   "source": [
    "## 3.1 Visualisation with Bar Charts\n",
    "Now, let's explore the `categories` column to understand the distribution of different categories and identify the most popular ones."
   ]
  },
  {
   "cell_type": "code",
   "execution_count": null,
   "id": "b67947a5",
   "metadata": {},
   "outputs": [],
   "source": [
    "# Get value counts of each category\n",
    "categories_count = steam['categories'].explode().value_counts()\n",
    "\n",
    "# Plot the distribution of categories horizontally\n",
    "plt.figure(figsize=(10, 8))  # Adjust the figure size\n",
    "categories_count.sort_values().plot(kind='barh', color='skyblue')  # Use barh for horizontal bar plot\n",
    "plt.title('Overall Distribution of Game Categories on Steam')\n",
    "plt.xlabel('Count')\n",
    "plt.ylabel('Categories')\n",
    "plt.tight_layout()  # Adjust layout to prevent overlapping\n",
    "plt.show()\n"
   ]
  },
  {
   "cell_type": "code",
   "execution_count": null,
   "id": "65320409",
   "metadata": {},
   "outputs": [],
   "source": [
    "# Define a function to list all existing labels and include all occurrences in another list\n",
    "def get_labels(data):\n",
    "    unique_labels = []\n",
    "    all_labels = []\n",
    "\n",
    "    for i in range(len(data)):\n",
    "        for label in data[i]:\n",
    "            all_labels.append(label)\n",
    "            if label not in unique_labels:\n",
    "                unique_labels.append(label)\n",
    "  \n",
    "    print('Number of unique labels:', len(unique_labels))\n",
    "    print('Number of total labels applied:', len(all_labels))\n",
    "  \n",
    "    return unique_labels, all_labels\n",
    "\n",
    "# List all existing categories and include all occurrences in another list\n",
    "unique_categories, all_categories = get_labels(steam['categories'])\n",
    "\n",
    "# Display the first 10 unique categories\n",
    "print(unique_categories[:10])\n",
    "\n",
    "# Visualize the top 10 categories\n",
    "plt.figure(figsize=(14, 10))\n",
    "pd.Series(all_categories).value_counts()[:10].plot(kind='barh', color='skyblue')\n",
    "plt.gca().invert_yaxis()\n",
    "plt.xlabel('Frequency')\n",
    "plt.title('Top 10 Distribution of Game Categories on Steam')\n",
    "plt.show()\n"
   ]
  },
  {
   "cell_type": "markdown",
   "id": "b78b6d7a",
   "metadata": {
    "jp-MarkdownHeadingCollapsed": true
   },
   "source": [
    "## 3.2 Observation and Analysis: Distribution of Game Categories on Steam\n",
    "\n",
    "The chart shows the distribution of game categories on Steam. The most popular category is `Single-player`, followed by `Multi-player`, `Steam Achievements`, and `Full controller support`. This suggests that single-player games are dominant on Steam, but there's also a significant number of games that support multiplayer modes.\n",
    "\n",
    "* Further analysis ideas:\n",
    "    * Refine category definitions to distinguish between single/multiplayer.\n",
    "    * Group related categories (e.g., multiplayer-related categories).\n",
    "    * Investigate data points on the number of players supported per game."
   ]
  },
  {
   "cell_type": "markdown",
   "id": "525b9b66",
   "metadata": {},
   "source": [
    "## 4. Owners"
   ]
  },
  {
   "cell_type": "code",
   "execution_count": null,
   "id": "65783d3b",
   "metadata": {},
   "outputs": [],
   "source": [
    "# Check unique values and basic statistics of the 'owners' column\n",
    "print(\"Unique values in 'owners' column:\")\n",
    "print(steam['owners'].unique())\n",
    "print(\"\\nBasic statistics of 'owners' column:\")\n",
    "steam['owners'].describe()"
   ]
  },
  {
   "cell_type": "markdown",
   "id": "af6fb86e",
   "metadata": {},
   "source": [
    "## 4.1 Pre-processing and Splitting Lower and Upper Bounds\n",
    "Next, we'll split the lower and upper bounds of the `owners` column into a temporary DataFrame to calculate the median number of owners.   \n",
    "\n",
    "We also converted owners into a usable integer format by keeping the upper bound.\n",
    "- Alternatively, could keep the upper bound or mid-point.\n",
    "- By setting an upper bound, we focus on games with a more established player base.\n",
    "- Games with very few owners might have a small, unrepresentative sample of reviews that skew the overall rating."
   ]
  },
  {
   "cell_type": "code",
   "execution_count": null,
   "id": "7c7a2296",
   "metadata": {},
   "outputs": [],
   "source": [
    "# Split lower and upper bounds into a temporary DataFrame\n",
    "tmp_owners = pd.DataFrame()\n",
    "tmp_owners[['lower', 'upper']] = steam['owners'].str.split('-', expand=True)\n",
    "tmp_owners['lower'] = tmp_owners['lower'].astype(int)\n",
    "tmp_owners['upper'] = tmp_owners['upper'].astype(int)\n",
    "tmp_owners['owner_median'] = (tmp_owners['lower'] + tmp_owners['upper']) / 2\n",
    "tmp_owners.head()"
   ]
  },
  {
   "cell_type": "code",
   "execution_count": null,
   "id": "2c9f3d91",
   "metadata": {},
   "outputs": [],
   "source": [
    "# insert the owner upper bound into owners in steam df\n",
    "steam['owners'] = tmp_owners['upper']"
   ]
  },
  {
   "cell_type": "markdown",
   "id": "dd8f1fe3",
   "metadata": {},
   "source": [
    "## 4.2 Visualisation with a Bar Plot: Distribution of Owners\n",
    "- The overall distibution of `owners` most appear to be around 20k. \n",
    "- We can also explore for the most popular games in terms of ownership."
   ]
  },
  {
   "cell_type": "code",
   "execution_count": null,
   "id": "2f4c0d6d",
   "metadata": {
    "scrolled": true
   },
   "outputs": [],
   "source": [
    "# Distribution of overall owner_median\n",
    "plt.figure(figsize=(10, 6))\n",
    "steam['owners'].value_counts().sort_index().plot(kind='barh')\n",
    "plt.gca().invert_yaxis()\n",
    "plt.xlabel('Frequency')\n",
    "plt.ylabel('Owners')\n",
    "plt.title('Distribution of Owners')\n",
    "plt.show()\n"
   ]
  },
  {
   "cell_type": "code",
   "execution_count": null,
   "id": "a0caf30f",
   "metadata": {},
   "outputs": [],
   "source": [
    "# top games by owners\n",
    "steam.sort_values(by = 'owners', ascending = False).head(10)[['name', 'owners']]"
   ]
  },
  {
   "cell_type": "markdown",
   "id": "1b31095b",
   "metadata": {},
   "source": [
    "## Analysis on `owners` distribution\n",
    "Our analysis of ownership reveals a concentration of games within the 0-20,000 owner range. This suggests a large portion of the games have a relatively small established player base.  \n",
    "\n",
    "While the visualization might not clearly show it, there exists a small but significant tail of games with ownership exceeding 2 million (under 5,000 games). This indicates the presence of titles with a considerably larger player base.\n",
    "\n",
    "Key Takeaways:\n",
    "\n",
    "- The majority of games have a player base of under 20,000 owners.\n",
    "- A small but noteworthy portion of games boasts a player base exceeding 2 million.\n",
    "- A select few games have achieved immense popularity, exceeding 100 million owners.\n",
    "\n",
    "\n",
    "Since the games that exceed 100 million owners are not readily apparent in the bar chart, we went to analyse the top games in ownership.\n",
    "\n",
    "\n",
    "#### **Top games contenders (by owners)**\n",
    " > 1st: **Dota 2** (500,000,000 owners)  \n",
    " > 2nd: **Counter-Strike 2** (approx. 200,000,000 owners)  \n",
    " > 3rd: **Palworld, Left 4 Dead 2, Apex Legends, PUBG: BATTLEGROUNDS, New World** (approx. 100,000,000 owners)  \n",
    "\n",
    "**Dota 2** reigns supreme with a staggering owner count of 500,000,000, **more than double** the owner of **Counter-Strike 2**, the runner-up. The remaining games in the top few seem to have a count of around 100,000,000.\n",
    "- The significant gap of owners between **Dota 2** and the rest suggests its immense popularity on Steam.\n",
    "- It's important to acknowledge potential data limitations, a high ownership median with a lower rating might indicate insufficient data.\n"
   ]
  },
  {
   "cell_type": "markdown",
   "id": "135394fb",
   "metadata": {},
   "source": [
    "## 4.3 Visualisation with Box Plot: `owners` vs `overall_rating`\n",
    "We aim to make a boxplot visualizing the distribution of overall ratings across different ownership categories.\n",
    "- Since we only have `positive_ratings` and `negative_ratings`, it might be a good idea to make a function that estimates an overall rating score.\n",
    "- `overall_rating`:\n",
    "> - We made a function that a rating score that considers both `positive_ratings` and `negative_ratings` \n",
    "> - **row** (pandas.Series): A row from a pandas DataFrame containing `positive_ratings` and `negative_ratings` columns.  \n",
    "> - It will return overall rating score as a percentage (0 to 100).\n",
    "\n",
    "The box plots will compare the ratings of games with 20,000 owners or more to the entire dataset.\n",
    "Applies the function to calculate the `overall_rating` for each game in steam.\n",
    "> **X-axis**: Categorical variable indicating owner category (\"Low Ownership\" or \"High Ownership\").  \n",
    "> **Y-axis**: The calculated `overall_rating`.  \n",
    "> **Data**: The steam DataFrame with an assigned owner catergory based on the ownership threshold (Low = <= 20,000, High > 20,000).\n",
    "\n"
   ]
  },
  {
   "cell_type": "code",
   "execution_count": null,
   "id": "3db6ccfd",
   "metadata": {},
   "outputs": [],
   "source": [
    "import math\n",
    "def overall_rating(row):\n",
    "    pos = row['positive_ratings']\n",
    "    neg = row['negative_ratings']\n",
    "\n",
    "    total_reviews = pos + neg\n",
    "\n",
    "    # Check for division by zero (no reviews)\n",
    "    if total_reviews == 0:\n",
    "          return 0  # Handle case with no reviews (set rating to 0)\n",
    "\n",
    "    average = pos / total_reviews\n",
    "\n",
    "    # Adjust score towards 50%, stronger adjustment for fewer reviews\n",
    "    score = average - (average * 0.5) * 2**(-math.log10(total_reviews + 1))\n",
    "\n",
    "    return score * 100\n"
   ]
  },
  {
   "cell_type": "code",
   "execution_count": null,
   "id": "f1af5aa6",
   "metadata": {},
   "outputs": [],
   "source": [
    "# Apply overall_rating function to calculate overall rating\n",
    "steam['overall_rating'] = steam.apply(overall_rating, axis=1)\n"
   ]
  },
  {
   "cell_type": "code",
   "execution_count": null,
   "id": "1d7452bf",
   "metadata": {},
   "outputs": [],
   "source": [
    "# Apply overall_rating function to calculate overall rating\n",
    "steam['overall_rating'] = steam.apply(overall_rating, axis=1)\n",
    "\n",
    "# Assuming you have an 'owners' column for categorizing by ownership\n",
    "fig, ax = plt.subplots(figsize=(10, 6))\n",
    "\n",
    "sns.boxplot(\n",
    "    x=\"owners_category\",  \n",
    "    y=\"overall_rating\",\n",
    "    showmeans=True,\n",
    "    data=steam.assign(owners_category=lambda x: ['Low Ownership' if i <= 20000 else 'High Ownership' for i in x['owners']])\n",
    ")\n",
    "\n",
    "ax.set(xlabel=\"Owner Category\", ylabel=\"Overall Rating (%)\")  # Adjust labels for clarity\n",
    "plt.show()\n"
   ]
  },
  {
   "cell_type": "code",
   "execution_count": null,
   "id": "e9d8cf5b",
   "metadata": {},
   "outputs": [],
   "source": [
    "print(\"Games with less than 20,000 owners:\", steam[steam['owners'] <= 20000].shape[0])\n",
    "print(\"Games with more than 20,000 owners:\", steam[steam['owners'] > 20000].shape[0])\n"
   ]
  },
  {
   "cell_type": "markdown",
   "id": "1e0c2850",
   "metadata": {},
   "source": [
    "## Analysis on Box Plot\n",
    "Over 40,000 games fall under 20,000 owners, about 3/5 of the data, hence analysing these games under 20,000 may still have an impact on future analysis.\n",
    "\n",
    "Potential Trends:  \n",
    "By comparing the positions and shapes of the boxes, we can observe trends in how ratings are distributed across ownership categories.\n",
    "> - **The medians** (50th percentiles) of the boxes might indicate that games with lower ownership tend to have slightly lower overall ratings compared to games with higher ownership.\n",
    "> - **The interquartile ranges (IQR)** and the spread of the whiskers can reveal if the ratings for low-ownership games are more or less variable compared to high-ownership games.\n",
    "> - **Outliers**: The presence of outliers (data points beyond the whiskers) might indicate individual games with exceptional overall ratings (or very low ratings) within each ownership category. In this case, the very low rating outliers are more obvious.\n",
    "\n",
    "Possible Explanations:  \n",
    "There could be a couple of reasons why games with lower ownership might have slightly lower median ratings:\n",
    "> - **Sample Size**: Games with fewer owners might have a smaller pool of reviews, potentially leading to less reliable overall ratings.  \n",
    "> - **Newer Releases**: Low-ownership games could tend to be newer releases that haven't yet had enough time to accumulate a substantial number of reviews. This can affect the overall rating, especially if the game is still under development or recently launched with initial bugs."
   ]
  },
  {
   "cell_type": "markdown",
   "id": "2bf73aae",
   "metadata": {},
   "source": [
    "## 4.4 Correalation Matrix of comparing  owners  against `positive_ratings` and `negative_ratings`"
   ]
  },
  {
   "cell_type": "code",
   "execution_count": null,
   "id": "8f0b97ac",
   "metadata": {},
   "outputs": [],
   "source": [
    "# Assuming you have these columns, select them for the correlation analysis\n",
    "data = steam.copy()\n",
    "numerical_data = data[['owners', 'positive_ratings', 'negative_ratings']]\n",
    "correlation = numerical_data.corr()"
   ]
  },
  {
   "cell_type": "code",
   "execution_count": null,
   "id": "9a1301c9",
   "metadata": {},
   "outputs": [],
   "source": [
    "fig, ax = plt.subplots(figsize=(10, 6))\n",
    "\n",
    "# Create heatmap with annotations and color gradient\n",
    "sns.heatmap(correlation, annot=True, cmap = 'Reds')\n",
    "\n",
    "# Adjust labels for clarity (optional)\n",
    "ax.set_title('Correlation Matrix')\n",
    "plt.show()\n"
   ]
  },
  {
   "cell_type": "markdown",
   "id": "5e3ea5ec",
   "metadata": {
    "jp-MarkdownHeadingCollapsed": true
   },
   "source": [
    "## Analysis of correlations between owners vs positive and negative ratings\n",
    "We will be analysing the correlation between positive and negative ratings in their own respective section below in **Section 8**.\n",
    "\n",
    "`owners` and `positive_ratings`:    \n",
    "> **Moderate positive correlation (0.66)**    \n",
    "This suggests that games with a larger player base (more owners) tend to have more positive reviews.  \n",
    "This could be due to factors like increased popularity,attracting more attention and reviews.  \n",
    "Games with a higher overall rating (previously analyzed) attracting more owners who leave positive reviews.\n",
    "\n",
    "`owners` and `negative_ratings`: \n",
    "> **Moderate positive correlation (0.63)**   \n",
    "Although slightly less strong correlation than `positive_ratings`, it suggests that games with a larger player base might also have a slightly higher number of negative reviews alongside the positive ones. \n",
    "\n",
    "Possible Explanations:\n",
    "> - **Diverse Player Base**: A larger player base can encompass a wider range of opinions, leading to both positive and negative reviews.  \n",
    "> - **Scrutiny and Attention**: Games with a larger audience might be subject to more scrutiny and criticism due to potential higher expectations, potentially leading to a higher number of negative reviews.   \n",
    "> - **Review Biases**: Certain game genres or platforms might have biases where popular games or those with larger communities tend to get more reviews of all types (positive and negative).\n",
    "\n"
   ]
  },
  {
   "cell_type": "markdown",
   "id": "92155c40",
   "metadata": {},
   "source": [
    "## 4.5 Further Exploraton of Correlation of Owners and Overall ratings\n",
    "We used a correlation plot to visualise the relationship"
   ]
  },
  {
   "cell_type": "code",
   "execution_count": null,
   "id": "a0b4eba9",
   "metadata": {},
   "outputs": [],
   "source": [
    "# Filter out rows with zero ratings\n",
    "steam_filtered = steam[steam['overall_rating'] != 0]\n",
    "\n",
    "# Create log_df with filtered data\n",
    "log_df = pd.DataFrame(zip(np.log10(steam_filtered['owners']), np.log10(steam_filtered['overall_rating']), steam_filtered['overall_rating']),\n",
    "                      columns=['log_owners', 'log_n_ratings', 'rating'])\n",
    "\n",
    "\n",
    "# Create subplots\n",
    "fig, axarr = plt.subplots(1, 2)  # Change the subplot layout to 1 row and 2 columns\n",
    "\n",
    "# Plot log_owners vs log_n_ratings with blue color\n",
    "sns.regplot(x='log_owners', y='log_n_ratings', data=log_df, ax=axarr[0], color='blue')\n",
    "\n",
    "# Set the title for the first subplot\n",
    "axarr[0].set_title('Log Owners vs Log Ratings')\n",
    "\n",
    "# Plot log_owners vs rating with green color\n",
    "sns.regplot(x='log_owners', y='rating', data=log_df, ax=axarr[1], color='green')\n",
    "\n",
    "# Set the title for the second subplot\n",
    "axarr[1].set_title('Log Owners vs Ratings')\n",
    "\n",
    "plt.tight_layout()\n",
    "plt.show()\n"
   ]
  },
  {
   "cell_type": "markdown",
   "id": "62397a86",
   "metadata": {},
   "source": [
    "## Analysis of correlations between owners vs overall ratings\n",
    "- Backing up the previous exploration of comparison against positive and negative ratings individually, the overall rating and ownership does have a **positive correlation**."
   ]
  },
  {
   "cell_type": "markdown",
   "id": "1b1444ea",
   "metadata": {},
   "source": [
    "## 5. Genre\n",
    "We will first preprocess the genres column into a list, making it easier for us to visualise this data."
   ]
  },
  {
   "cell_type": "code",
   "execution_count": null,
   "id": "b62c7d84",
   "metadata": {},
   "outputs": [],
   "source": [
    "# clean the values into lists\n",
    "steam['genres'] = steam['genres'].apply(lambda x: x.split(\";\"))"
   ]
  },
  {
   "cell_type": "code",
   "execution_count": null,
   "id": "3cb5f9a3",
   "metadata": {},
   "outputs": [],
   "source": [
    "from collections import Counter\n",
    "# Analyze genre distribution\n",
    "genre_counts = Counter()\n",
    "for genres in steam['genres']:\n",
    "    genre_counts.update(genres)  # Count occurrences of each genre in the lists\n",
    "\n",
    "print(\"Genre Counts:\")\n",
    "for genre, count in genre_counts.most_common():\n",
    "    print(f\"{genre}: {count}\")\n",
    "\n",
    "# Get unique genres\n",
    "unique_genres = set().union(*steam['genres'])\n",
    "print(f\"\\nUnique Genres: {unique_genres}\")"
   ]
  },
  {
   "cell_type": "code",
   "execution_count": null,
   "id": "58c90529",
   "metadata": {},
   "outputs": [],
   "source": [
    "# Number of categories for each game\n",
    "plt.figure()\n",
    "steam['genres'].apply(lambda x: len(x)).value_counts().sort_index().plot(kind='bar')\n",
    "plt.xlabel('Number of Genres')\n",
    "plt.ylabel('Frequency')\n",
    "plt.title('Distribution of Number of Genres per Game')\n",
    "plt.show()\n",
    "\n",
    "# List all existing genres and include all occurrences in another list\n",
    "unique_genres, all_genres = get_labels(steam['genres'])\n",
    "print(\"Number of unique genres:\", len(unique_genres))\n"
   ]
  },
  {
   "cell_type": "code",
   "execution_count": null,
   "id": "902d51fe",
   "metadata": {},
   "outputs": [],
   "source": [
    "# Visualize the top 10 most frequent genres\n",
    "plt.figure(figsize=(16, 10))\n",
    "pd.Series(all_genres).value_counts().head(10).plot(kind='barh')\n",
    "plt.gca().invert_yaxis()\n",
    "plt.xlabel('Frequency')\n",
    "plt.ylabel('Genres')\n",
    "plt.title('Top 10 Most Frequenty Tagged Genre')\n",
    "plt.show()"
   ]
  },
  {
   "cell_type": "markdown",
   "id": "85489dfe",
   "metadata": {},
   "source": [
    "## Analysis of Genre Distribution\n",
    "\n",
    "Genre Counts:\n",
    "- It's common for one game to have more than 1 genre.\n",
    "- 'Indie' is the most tagged genre. 'Indie' actually reference games made by independent smaller companies.\n",
    "- Other popular tagged genres include 'Action', 'Casual', and 'Adventure'.\n",
    "\n",
    "Unique Genres:\n",
    "- There are a wide variety of genres, including 'Strategy,' 'RPG,' 'Simulation,' as well as less common ones like 'Movie,' 'Accounting,' and 'Web Publishing.'\n",
    "- We can keep the 'main' genres similar to steam store and exclude ambiguous tags before performing more analysis. (e.g, 'Free to Play', 'Nudity', 'Tutorial', 'Early Access' etc.)"
   ]
  },
  {
   "cell_type": "markdown",
   "id": "73ee317f",
   "metadata": {},
   "source": [
    "## 5.2 Genre Comparison by average `owners`  per `genre`\n",
    "Let's plot a comparison of genre distribution and average owners per genre.\n",
    "First, as explored before, we shall extract the 'main' genres."
   ]
  },
  {
   "cell_type": "code",
   "execution_count": null,
   "id": "40f44219",
   "metadata": {},
   "outputs": [],
   "source": [
    "main_genres= [ # keep the 'main' genres similar to steam store\n",
    "        # 'Accounting',\n",
    "        'Action',\n",
    "        'Adventure',\n",
    "        # 'Animation & Modeling',\n",
    "        # 'Audio Production',\n",
    "        'Casual',\n",
    "        # 'Design & Illustration',\n",
    "        # 'Documentary',\n",
    "        # 'Early Access',\n",
    "        # 'Education',\n",
    "        # 'Free to Play',\n",
    "        # 'Game Development',\n",
    "        # 'Gore',\n",
    "        'Indie',\n",
    "        'Massively Multiplayer',\n",
    "        # 'Nudity',\n",
    "        # 'Photo Editing',\n",
    "        'RPG',\n",
    "        'Racing',\n",
    "        # 'Sexual Content',\n",
    "        'Simulation',\n",
    "        # 'Software Training',\n",
    "        'Sports',\n",
    "        'Strategy'\n",
    "        # 'Tutorial',\n",
    "        # 'Utilities',\n",
    "        # 'Video Production',\n",
    "        # 'Violent',\n",
    "        # 'Web Publishing'\n",
    "]"
   ]
  },
  {
   "cell_type": "code",
   "execution_count": null,
   "id": "29af7f6e",
   "metadata": {},
   "outputs": [],
   "source": [
    "# Calculate the average number of owners per genre\n",
    "average_owners_per_genre = {}\n",
    "for genre in main_genres:\n",
    "    average_owners_per_genre[genre] = steam[steam['genres'].apply(lambda x: genre in x)]['owners'].mean()\n",
    "\n",
    "# Plot the comparison\n",
    "plt.figure(figsize=(12, 8))\n",
    "plt.barh(main_genres, [average_owners_per_genre[genre] for genre in main_genres], color='skyblue')\n",
    "plt.xlabel('Average Number of Owners')\n",
    "plt.ylabel('Genre')\n",
    "plt.title('Genre Comparison by Average Owners')\n",
    "plt.gca().invert_yaxis()  # Invert y-axis to have the genre with the most owners at the top\n",
    "plt.show()\n"
   ]
  },
  {
   "cell_type": "markdown",
   "id": "384c1cd3",
   "metadata": {},
   "source": [
    "## Analysis of `genre` and `owners`\n",
    "These genres are based on average owners per game, consumer popularity in the market and potentionally in high demand.\n",
    "\n",
    "High Average Owners: May indicates a popular genre with a large potential audience, likely willing to buy new games in that genre.    \n",
    "Low Average Owners: May indicate a niche genre with a smaller, more specific audience.  \n",
    "- 'Massively Multiplayer' seems to be the most owned genre.\n",
    "- 'Strategy' , 'Action' and 'RPG' are also seems to be popular\n",
    "\n",
    "Should we be surprised that 'Indie', that was the most frequently tagged genre, has less ownership? \n",
    "- Since 'Indie', although labelled as a genre, is more like a tag or category with the meaning \"Independent\", games made without financial backing from big companies.\n",
    "- Certainly there generally would be a big variation of genres although labelled as an 'Indie' game.\n",
    "- However, could this mean that people may tend to buy games from bigger or well-known companies rather than games made by smaller companies?\n",
    "\n"
   ]
  },
  {
   "cell_type": "markdown",
   "id": "4b8029d5",
   "metadata": {},
   "source": [
    "## 6. `release_date`\n",
    "- categorised the dates by year"
   ]
  },
  {
   "cell_type": "code",
   "execution_count": 11,
   "id": "dbe7ba19",
   "metadata": {},
   "outputs": [
    {
     "ename": "ValueError",
     "evalue": "time data \"16/11/2004\" doesn't match format \"%m/%d/%Y\", at position 6. You might want to try:\n    - passing `format` if your strings have a consistent format;\n    - passing `format='ISO8601'` if your strings are all ISO8601 but not necessarily in exactly the same format;\n    - passing `format='mixed'`, and the format will be inferred for each element individually. You might want to use `dayfirst` alongside this.",
     "output_type": "error",
     "traceback": [
      "\u001b[1;31m---------------------------------------------------------------------------\u001b[0m",
      "\u001b[1;31mValueError\u001b[0m                                Traceback (most recent call last)",
      "Cell \u001b[1;32mIn[11], line 2\u001b[0m\n\u001b[0;32m      1\u001b[0m \u001b[38;5;66;03m# convert release_date to datetime type and create separate column for release_year\u001b[39;00m\n\u001b[1;32m----> 2\u001b[0m steam[\u001b[38;5;124m'\u001b[39m\u001b[38;5;124mrelease_date\u001b[39m\u001b[38;5;124m'\u001b[39m] \u001b[38;5;241m=\u001b[39m steam[\u001b[38;5;124m'\u001b[39m\u001b[38;5;124mrelease_date\u001b[39m\u001b[38;5;124m'\u001b[39m]\u001b[38;5;241m.\u001b[39mastype(\u001b[38;5;124m'\u001b[39m\u001b[38;5;124mdatetime64[ns]\u001b[39m\u001b[38;5;124m'\u001b[39m)\n\u001b[0;32m      3\u001b[0m steam[\u001b[38;5;124m'\u001b[39m\u001b[38;5;124mrelease_year\u001b[39m\u001b[38;5;124m'\u001b[39m] \u001b[38;5;241m=\u001b[39m steam[\u001b[38;5;124m'\u001b[39m\u001b[38;5;124mrelease_date\u001b[39m\u001b[38;5;124m'\u001b[39m]\u001b[38;5;241m.\u001b[39mapply(\u001b[38;5;28;01mlambda\u001b[39;00m x: x\u001b[38;5;241m.\u001b[39myear)\n",
      "File \u001b[1;32mC:\\ProgramData\\anaconda3\\Lib\\site-packages\\pandas\\core\\generic.py:6534\u001b[0m, in \u001b[0;36mNDFrame.astype\u001b[1;34m(self, dtype, copy, errors)\u001b[0m\n\u001b[0;32m   6530\u001b[0m     results \u001b[38;5;241m=\u001b[39m [ser\u001b[38;5;241m.\u001b[39mastype(dtype, copy\u001b[38;5;241m=\u001b[39mcopy) \u001b[38;5;28;01mfor\u001b[39;00m _, ser \u001b[38;5;129;01min\u001b[39;00m \u001b[38;5;28mself\u001b[39m\u001b[38;5;241m.\u001b[39mitems()]\n\u001b[0;32m   6532\u001b[0m \u001b[38;5;28;01melse\u001b[39;00m:\n\u001b[0;32m   6533\u001b[0m     \u001b[38;5;66;03m# else, only a single dtype is given\u001b[39;00m\n\u001b[1;32m-> 6534\u001b[0m     new_data \u001b[38;5;241m=\u001b[39m \u001b[38;5;28mself\u001b[39m\u001b[38;5;241m.\u001b[39m_mgr\u001b[38;5;241m.\u001b[39mastype(dtype\u001b[38;5;241m=\u001b[39mdtype, copy\u001b[38;5;241m=\u001b[39mcopy, errors\u001b[38;5;241m=\u001b[39merrors)\n\u001b[0;32m   6535\u001b[0m     res \u001b[38;5;241m=\u001b[39m \u001b[38;5;28mself\u001b[39m\u001b[38;5;241m.\u001b[39m_constructor_from_mgr(new_data, axes\u001b[38;5;241m=\u001b[39mnew_data\u001b[38;5;241m.\u001b[39maxes)\n\u001b[0;32m   6536\u001b[0m     \u001b[38;5;28;01mreturn\u001b[39;00m res\u001b[38;5;241m.\u001b[39m__finalize__(\u001b[38;5;28mself\u001b[39m, method\u001b[38;5;241m=\u001b[39m\u001b[38;5;124m\"\u001b[39m\u001b[38;5;124mastype\u001b[39m\u001b[38;5;124m\"\u001b[39m)\n",
      "File \u001b[1;32mC:\\ProgramData\\anaconda3\\Lib\\site-packages\\pandas\\core\\internals\\managers.py:414\u001b[0m, in \u001b[0;36mBaseBlockManager.astype\u001b[1;34m(self, dtype, copy, errors)\u001b[0m\n\u001b[0;32m    411\u001b[0m \u001b[38;5;28;01melif\u001b[39;00m using_copy_on_write():\n\u001b[0;32m    412\u001b[0m     copy \u001b[38;5;241m=\u001b[39m \u001b[38;5;28;01mFalse\u001b[39;00m\n\u001b[1;32m--> 414\u001b[0m \u001b[38;5;28;01mreturn\u001b[39;00m \u001b[38;5;28mself\u001b[39m\u001b[38;5;241m.\u001b[39mapply(\n\u001b[0;32m    415\u001b[0m     \u001b[38;5;124m\"\u001b[39m\u001b[38;5;124mastype\u001b[39m\u001b[38;5;124m\"\u001b[39m,\n\u001b[0;32m    416\u001b[0m     dtype\u001b[38;5;241m=\u001b[39mdtype,\n\u001b[0;32m    417\u001b[0m     copy\u001b[38;5;241m=\u001b[39mcopy,\n\u001b[0;32m    418\u001b[0m     errors\u001b[38;5;241m=\u001b[39merrors,\n\u001b[0;32m    419\u001b[0m     using_cow\u001b[38;5;241m=\u001b[39musing_copy_on_write(),\n\u001b[0;32m    420\u001b[0m )\n",
      "File \u001b[1;32mC:\\ProgramData\\anaconda3\\Lib\\site-packages\\pandas\\core\\internals\\managers.py:354\u001b[0m, in \u001b[0;36mBaseBlockManager.apply\u001b[1;34m(self, f, align_keys, **kwargs)\u001b[0m\n\u001b[0;32m    352\u001b[0m         applied \u001b[38;5;241m=\u001b[39m b\u001b[38;5;241m.\u001b[39mapply(f, \u001b[38;5;241m*\u001b[39m\u001b[38;5;241m*\u001b[39mkwargs)\n\u001b[0;32m    353\u001b[0m     \u001b[38;5;28;01melse\u001b[39;00m:\n\u001b[1;32m--> 354\u001b[0m         applied \u001b[38;5;241m=\u001b[39m \u001b[38;5;28mgetattr\u001b[39m(b, f)(\u001b[38;5;241m*\u001b[39m\u001b[38;5;241m*\u001b[39mkwargs)\n\u001b[0;32m    355\u001b[0m     result_blocks \u001b[38;5;241m=\u001b[39m extend_blocks(applied, result_blocks)\n\u001b[0;32m    357\u001b[0m out \u001b[38;5;241m=\u001b[39m \u001b[38;5;28mtype\u001b[39m(\u001b[38;5;28mself\u001b[39m)\u001b[38;5;241m.\u001b[39mfrom_blocks(result_blocks, \u001b[38;5;28mself\u001b[39m\u001b[38;5;241m.\u001b[39maxes)\n",
      "File \u001b[1;32mC:\\ProgramData\\anaconda3\\Lib\\site-packages\\pandas\\core\\internals\\blocks.py:616\u001b[0m, in \u001b[0;36mBlock.astype\u001b[1;34m(self, dtype, copy, errors, using_cow)\u001b[0m\n\u001b[0;32m    596\u001b[0m \u001b[38;5;250m\u001b[39m\u001b[38;5;124;03m\"\"\"\u001b[39;00m\n\u001b[0;32m    597\u001b[0m \u001b[38;5;124;03mCoerce to the new dtype.\u001b[39;00m\n\u001b[0;32m    598\u001b[0m \n\u001b[1;32m   (...)\u001b[0m\n\u001b[0;32m    612\u001b[0m \u001b[38;5;124;03mBlock\u001b[39;00m\n\u001b[0;32m    613\u001b[0m \u001b[38;5;124;03m\"\"\"\u001b[39;00m\n\u001b[0;32m    614\u001b[0m values \u001b[38;5;241m=\u001b[39m \u001b[38;5;28mself\u001b[39m\u001b[38;5;241m.\u001b[39mvalues\n\u001b[1;32m--> 616\u001b[0m new_values \u001b[38;5;241m=\u001b[39m astype_array_safe(values, dtype, copy\u001b[38;5;241m=\u001b[39mcopy, errors\u001b[38;5;241m=\u001b[39merrors)\n\u001b[0;32m    618\u001b[0m new_values \u001b[38;5;241m=\u001b[39m maybe_coerce_values(new_values)\n\u001b[0;32m    620\u001b[0m refs \u001b[38;5;241m=\u001b[39m \u001b[38;5;28;01mNone\u001b[39;00m\n",
      "File \u001b[1;32mC:\\ProgramData\\anaconda3\\Lib\\site-packages\\pandas\\core\\dtypes\\astype.py:238\u001b[0m, in \u001b[0;36mastype_array_safe\u001b[1;34m(values, dtype, copy, errors)\u001b[0m\n\u001b[0;32m    235\u001b[0m     dtype \u001b[38;5;241m=\u001b[39m dtype\u001b[38;5;241m.\u001b[39mnumpy_dtype\n\u001b[0;32m    237\u001b[0m \u001b[38;5;28;01mtry\u001b[39;00m:\n\u001b[1;32m--> 238\u001b[0m     new_values \u001b[38;5;241m=\u001b[39m astype_array(values, dtype, copy\u001b[38;5;241m=\u001b[39mcopy)\n\u001b[0;32m    239\u001b[0m \u001b[38;5;28;01mexcept\u001b[39;00m (\u001b[38;5;167;01mValueError\u001b[39;00m, \u001b[38;5;167;01mTypeError\u001b[39;00m):\n\u001b[0;32m    240\u001b[0m     \u001b[38;5;66;03m# e.g. _astype_nansafe can fail on object-dtype of strings\u001b[39;00m\n\u001b[0;32m    241\u001b[0m     \u001b[38;5;66;03m#  trying to convert to float\u001b[39;00m\n\u001b[0;32m    242\u001b[0m     \u001b[38;5;28;01mif\u001b[39;00m errors \u001b[38;5;241m==\u001b[39m \u001b[38;5;124m\"\u001b[39m\u001b[38;5;124mignore\u001b[39m\u001b[38;5;124m\"\u001b[39m:\n",
      "File \u001b[1;32mC:\\ProgramData\\anaconda3\\Lib\\site-packages\\pandas\\core\\dtypes\\astype.py:183\u001b[0m, in \u001b[0;36mastype_array\u001b[1;34m(values, dtype, copy)\u001b[0m\n\u001b[0;32m    180\u001b[0m     values \u001b[38;5;241m=\u001b[39m values\u001b[38;5;241m.\u001b[39mastype(dtype, copy\u001b[38;5;241m=\u001b[39mcopy)\n\u001b[0;32m    182\u001b[0m \u001b[38;5;28;01melse\u001b[39;00m:\n\u001b[1;32m--> 183\u001b[0m     values \u001b[38;5;241m=\u001b[39m _astype_nansafe(values, dtype, copy\u001b[38;5;241m=\u001b[39mcopy)\n\u001b[0;32m    185\u001b[0m \u001b[38;5;66;03m# in pandas we don't store numpy str dtypes, so convert to object\u001b[39;00m\n\u001b[0;32m    186\u001b[0m \u001b[38;5;28;01mif\u001b[39;00m \u001b[38;5;28misinstance\u001b[39m(dtype, np\u001b[38;5;241m.\u001b[39mdtype) \u001b[38;5;129;01mand\u001b[39;00m \u001b[38;5;28missubclass\u001b[39m(values\u001b[38;5;241m.\u001b[39mdtype\u001b[38;5;241m.\u001b[39mtype, \u001b[38;5;28mstr\u001b[39m):\n",
      "File \u001b[1;32mC:\\ProgramData\\anaconda3\\Lib\\site-packages\\pandas\\core\\dtypes\\astype.py:110\u001b[0m, in \u001b[0;36m_astype_nansafe\u001b[1;34m(arr, dtype, copy, skipna)\u001b[0m\n\u001b[0;32m    107\u001b[0m \u001b[38;5;28;01mif\u001b[39;00m lib\u001b[38;5;241m.\u001b[39mis_np_dtype(dtype, \u001b[38;5;124m\"\u001b[39m\u001b[38;5;124mM\u001b[39m\u001b[38;5;124m\"\u001b[39m):\n\u001b[0;32m    108\u001b[0m     \u001b[38;5;28;01mfrom\u001b[39;00m \u001b[38;5;21;01mpandas\u001b[39;00m \u001b[38;5;28;01mimport\u001b[39;00m to_datetime\n\u001b[1;32m--> 110\u001b[0m     dti \u001b[38;5;241m=\u001b[39m to_datetime(arr\u001b[38;5;241m.\u001b[39mravel())\n\u001b[0;32m    111\u001b[0m     dta \u001b[38;5;241m=\u001b[39m dti\u001b[38;5;241m.\u001b[39m_data\u001b[38;5;241m.\u001b[39mreshape(arr\u001b[38;5;241m.\u001b[39mshape)\n\u001b[0;32m    112\u001b[0m     \u001b[38;5;28;01mreturn\u001b[39;00m dta\u001b[38;5;241m.\u001b[39mastype(dtype, copy\u001b[38;5;241m=\u001b[39m\u001b[38;5;28;01mFalse\u001b[39;00m)\u001b[38;5;241m.\u001b[39m_ndarray\n",
      "File \u001b[1;32mC:\\ProgramData\\anaconda3\\Lib\\site-packages\\pandas\\core\\tools\\datetimes.py:1131\u001b[0m, in \u001b[0;36mto_datetime\u001b[1;34m(arg, errors, dayfirst, yearfirst, utc, format, exact, unit, infer_datetime_format, origin, cache)\u001b[0m\n\u001b[0;32m   1123\u001b[0m \u001b[38;5;28;01mtry\u001b[39;00m:\n\u001b[0;32m   1124\u001b[0m     \u001b[38;5;66;03m# error: Argument 1 to \"_maybe_cache\" has incompatible type\u001b[39;00m\n\u001b[0;32m   1125\u001b[0m     \u001b[38;5;66;03m# \"Union[float, str, datetime, List[Any], Tuple[Any, ...], ExtensionArray,\u001b[39;00m\n\u001b[0;32m   1126\u001b[0m     \u001b[38;5;66;03m# ndarray[Any, Any], Series]\"; expected \"Union[List[Any], Tuple[Any, ...],\u001b[39;00m\n\u001b[0;32m   1127\u001b[0m     \u001b[38;5;66;03m# Union[Union[ExtensionArray, ndarray[Any, Any]], Index, Series], Series]\"\u001b[39;00m\n\u001b[0;32m   1128\u001b[0m     argc \u001b[38;5;241m=\u001b[39m cast(\n\u001b[0;32m   1129\u001b[0m         Union[\u001b[38;5;28mlist\u001b[39m, \u001b[38;5;28mtuple\u001b[39m, ExtensionArray, np\u001b[38;5;241m.\u001b[39mndarray, \u001b[38;5;124m\"\u001b[39m\u001b[38;5;124mSeries\u001b[39m\u001b[38;5;124m\"\u001b[39m, Index], arg\n\u001b[0;32m   1130\u001b[0m     )\n\u001b[1;32m-> 1131\u001b[0m     cache_array \u001b[38;5;241m=\u001b[39m _maybe_cache(argc, \u001b[38;5;28mformat\u001b[39m, cache, convert_listlike)\n\u001b[0;32m   1132\u001b[0m \u001b[38;5;28;01mexcept\u001b[39;00m OutOfBoundsDatetime:\n\u001b[0;32m   1133\u001b[0m     \u001b[38;5;66;03m# caching attempts to create a DatetimeIndex, which may raise\u001b[39;00m\n\u001b[0;32m   1134\u001b[0m     \u001b[38;5;66;03m# an OOB. If that's the desired behavior, then just reraise...\u001b[39;00m\n\u001b[0;32m   1135\u001b[0m     \u001b[38;5;28;01mif\u001b[39;00m errors \u001b[38;5;241m==\u001b[39m \u001b[38;5;124m\"\u001b[39m\u001b[38;5;124mraise\u001b[39m\u001b[38;5;124m\"\u001b[39m:\n",
      "File \u001b[1;32mC:\\ProgramData\\anaconda3\\Lib\\site-packages\\pandas\\core\\tools\\datetimes.py:254\u001b[0m, in \u001b[0;36m_maybe_cache\u001b[1;34m(arg, format, cache, convert_listlike)\u001b[0m\n\u001b[0;32m    252\u001b[0m unique_dates \u001b[38;5;241m=\u001b[39m unique(arg)\n\u001b[0;32m    253\u001b[0m \u001b[38;5;28;01mif\u001b[39;00m \u001b[38;5;28mlen\u001b[39m(unique_dates) \u001b[38;5;241m<\u001b[39m \u001b[38;5;28mlen\u001b[39m(arg):\n\u001b[1;32m--> 254\u001b[0m     cache_dates \u001b[38;5;241m=\u001b[39m convert_listlike(unique_dates, \u001b[38;5;28mformat\u001b[39m)\n\u001b[0;32m    255\u001b[0m     \u001b[38;5;66;03m# GH#45319\u001b[39;00m\n\u001b[0;32m    256\u001b[0m     \u001b[38;5;28;01mtry\u001b[39;00m:\n",
      "File \u001b[1;32mC:\\ProgramData\\anaconda3\\Lib\\site-packages\\pandas\\core\\tools\\datetimes.py:488\u001b[0m, in \u001b[0;36m_convert_listlike_datetimes\u001b[1;34m(arg, format, name, utc, unit, errors, dayfirst, yearfirst, exact)\u001b[0m\n\u001b[0;32m    486\u001b[0m \u001b[38;5;66;03m# `format` could be inferred, or user didn't ask for mixed-format parsing.\u001b[39;00m\n\u001b[0;32m    487\u001b[0m \u001b[38;5;28;01mif\u001b[39;00m \u001b[38;5;28mformat\u001b[39m \u001b[38;5;129;01mis\u001b[39;00m \u001b[38;5;129;01mnot\u001b[39;00m \u001b[38;5;28;01mNone\u001b[39;00m \u001b[38;5;129;01mand\u001b[39;00m \u001b[38;5;28mformat\u001b[39m \u001b[38;5;241m!=\u001b[39m \u001b[38;5;124m\"\u001b[39m\u001b[38;5;124mmixed\u001b[39m\u001b[38;5;124m\"\u001b[39m:\n\u001b[1;32m--> 488\u001b[0m     \u001b[38;5;28;01mreturn\u001b[39;00m _array_strptime_with_fallback(arg, name, utc, \u001b[38;5;28mformat\u001b[39m, exact, errors)\n\u001b[0;32m    490\u001b[0m result, tz_parsed \u001b[38;5;241m=\u001b[39m objects_to_datetime64ns(\n\u001b[0;32m    491\u001b[0m     arg,\n\u001b[0;32m    492\u001b[0m     dayfirst\u001b[38;5;241m=\u001b[39mdayfirst,\n\u001b[1;32m   (...)\u001b[0m\n\u001b[0;32m    496\u001b[0m     allow_object\u001b[38;5;241m=\u001b[39m\u001b[38;5;28;01mTrue\u001b[39;00m,\n\u001b[0;32m    497\u001b[0m )\n\u001b[0;32m    499\u001b[0m \u001b[38;5;28;01mif\u001b[39;00m tz_parsed \u001b[38;5;129;01mis\u001b[39;00m \u001b[38;5;129;01mnot\u001b[39;00m \u001b[38;5;28;01mNone\u001b[39;00m:\n\u001b[0;32m    500\u001b[0m     \u001b[38;5;66;03m# We can take a shortcut since the datetime64 numpy array\u001b[39;00m\n\u001b[0;32m    501\u001b[0m     \u001b[38;5;66;03m# is in UTC\u001b[39;00m\n",
      "File \u001b[1;32mC:\\ProgramData\\anaconda3\\Lib\\site-packages\\pandas\\core\\tools\\datetimes.py:519\u001b[0m, in \u001b[0;36m_array_strptime_with_fallback\u001b[1;34m(arg, name, utc, fmt, exact, errors)\u001b[0m\n\u001b[0;32m    508\u001b[0m \u001b[38;5;28;01mdef\u001b[39;00m \u001b[38;5;21m_array_strptime_with_fallback\u001b[39m(\n\u001b[0;32m    509\u001b[0m     arg,\n\u001b[0;32m    510\u001b[0m     name,\n\u001b[1;32m   (...)\u001b[0m\n\u001b[0;32m    514\u001b[0m     errors: \u001b[38;5;28mstr\u001b[39m,\n\u001b[0;32m    515\u001b[0m ) \u001b[38;5;241m-\u001b[39m\u001b[38;5;241m>\u001b[39m Index:\n\u001b[0;32m    516\u001b[0m \u001b[38;5;250m    \u001b[39m\u001b[38;5;124;03m\"\"\"\u001b[39;00m\n\u001b[0;32m    517\u001b[0m \u001b[38;5;124;03m    Call array_strptime, with fallback behavior depending on 'errors'.\u001b[39;00m\n\u001b[0;32m    518\u001b[0m \u001b[38;5;124;03m    \"\"\"\u001b[39;00m\n\u001b[1;32m--> 519\u001b[0m     result, timezones \u001b[38;5;241m=\u001b[39m array_strptime(arg, fmt, exact\u001b[38;5;241m=\u001b[39mexact, errors\u001b[38;5;241m=\u001b[39merrors, utc\u001b[38;5;241m=\u001b[39mutc)\n\u001b[0;32m    520\u001b[0m     \u001b[38;5;28;01mif\u001b[39;00m \u001b[38;5;28many\u001b[39m(tz \u001b[38;5;129;01mis\u001b[39;00m \u001b[38;5;129;01mnot\u001b[39;00m \u001b[38;5;28;01mNone\u001b[39;00m \u001b[38;5;28;01mfor\u001b[39;00m tz \u001b[38;5;129;01min\u001b[39;00m timezones):\n\u001b[0;32m    521\u001b[0m         \u001b[38;5;28;01mreturn\u001b[39;00m _return_parsed_timezone_results(result, timezones, utc, name)\n",
      "File \u001b[1;32mstrptime.pyx:534\u001b[0m, in \u001b[0;36mpandas._libs.tslibs.strptime.array_strptime\u001b[1;34m()\u001b[0m\n",
      "File \u001b[1;32mstrptime.pyx:355\u001b[0m, in \u001b[0;36mpandas._libs.tslibs.strptime.array_strptime\u001b[1;34m()\u001b[0m\n",
      "\u001b[1;31mValueError\u001b[0m: time data \"16/11/2004\" doesn't match format \"%m/%d/%Y\", at position 6. You might want to try:\n    - passing `format` if your strings have a consistent format;\n    - passing `format='ISO8601'` if your strings are all ISO8601 but not necessarily in exactly the same format;\n    - passing `format='mixed'`, and the format will be inferred for each element individually. You might want to use `dayfirst` alongside this."
     ]
    }
   ],
   "source": [
    "# convert release_date to datetime type and create separate column for release_year\n",
    "steam['release_date'] = steam['release_date'].astype('datetime64[ns]')\n",
    "steam['release_year'] = steam['release_date'].apply(lambda x: x.year)"
   ]
  },
  {
   "cell_type": "code",
   "execution_count": 12,
   "id": "efcc9752",
   "metadata": {},
   "outputs": [
    {
     "ename": "AttributeError",
     "evalue": "Can only use .dt accessor with datetimelike values",
     "output_type": "error",
     "traceback": [
      "\u001b[1;31m---------------------------------------------------------------------------\u001b[0m",
      "\u001b[1;31mAttributeError\u001b[0m                            Traceback (most recent call last)",
      "Cell \u001b[1;32mIn[12], line 3\u001b[0m\n\u001b[0;32m      1\u001b[0m \u001b[38;5;66;03m# release date by year\u001b[39;00m\n\u001b[0;32m      2\u001b[0m plt\u001b[38;5;241m.\u001b[39mfigure()\n\u001b[1;32m----> 3\u001b[0m steam[\u001b[38;5;124m'\u001b[39m\u001b[38;5;124mrelease_date\u001b[39m\u001b[38;5;124m'\u001b[39m]\u001b[38;5;241m.\u001b[39mdt\u001b[38;5;241m.\u001b[39myear\u001b[38;5;241m.\u001b[39mvalue_counts()\u001b[38;5;241m.\u001b[39msort_index()\u001b[38;5;241m.\u001b[39mplot(kind \u001b[38;5;241m=\u001b[39m \u001b[38;5;124m'\u001b[39m\u001b[38;5;124mline\u001b[39m\u001b[38;5;124m'\u001b[39m)\n\u001b[0;32m      4\u001b[0m plt\u001b[38;5;241m.\u001b[39mylabel(\u001b[38;5;124m'\u001b[39m\u001b[38;5;124mReleases\u001b[39m\u001b[38;5;124m'\u001b[39m)\n\u001b[0;32m      5\u001b[0m plt\u001b[38;5;241m.\u001b[39mtitle(\u001b[38;5;124m'\u001b[39m\u001b[38;5;124mReleases Grow by Years\u001b[39m\u001b[38;5;124m'\u001b[39m)\n",
      "File \u001b[1;32mC:\\ProgramData\\anaconda3\\Lib\\site-packages\\pandas\\core\\generic.py:6204\u001b[0m, in \u001b[0;36mNDFrame.__getattr__\u001b[1;34m(self, name)\u001b[0m\n\u001b[0;32m   6197\u001b[0m \u001b[38;5;28;01mif\u001b[39;00m (\n\u001b[0;32m   6198\u001b[0m     name \u001b[38;5;129;01mnot\u001b[39;00m \u001b[38;5;129;01min\u001b[39;00m \u001b[38;5;28mself\u001b[39m\u001b[38;5;241m.\u001b[39m_internal_names_set\n\u001b[0;32m   6199\u001b[0m     \u001b[38;5;129;01mand\u001b[39;00m name \u001b[38;5;129;01mnot\u001b[39;00m \u001b[38;5;129;01min\u001b[39;00m \u001b[38;5;28mself\u001b[39m\u001b[38;5;241m.\u001b[39m_metadata\n\u001b[0;32m   6200\u001b[0m     \u001b[38;5;129;01mand\u001b[39;00m name \u001b[38;5;129;01mnot\u001b[39;00m \u001b[38;5;129;01min\u001b[39;00m \u001b[38;5;28mself\u001b[39m\u001b[38;5;241m.\u001b[39m_accessors\n\u001b[0;32m   6201\u001b[0m     \u001b[38;5;129;01mand\u001b[39;00m \u001b[38;5;28mself\u001b[39m\u001b[38;5;241m.\u001b[39m_info_axis\u001b[38;5;241m.\u001b[39m_can_hold_identifiers_and_holds_name(name)\n\u001b[0;32m   6202\u001b[0m ):\n\u001b[0;32m   6203\u001b[0m     \u001b[38;5;28;01mreturn\u001b[39;00m \u001b[38;5;28mself\u001b[39m[name]\n\u001b[1;32m-> 6204\u001b[0m \u001b[38;5;28;01mreturn\u001b[39;00m \u001b[38;5;28mobject\u001b[39m\u001b[38;5;241m.\u001b[39m\u001b[38;5;21m__getattribute__\u001b[39m(\u001b[38;5;28mself\u001b[39m, name)\n",
      "File \u001b[1;32mC:\\ProgramData\\anaconda3\\Lib\\site-packages\\pandas\\core\\accessor.py:224\u001b[0m, in \u001b[0;36mCachedAccessor.__get__\u001b[1;34m(self, obj, cls)\u001b[0m\n\u001b[0;32m    221\u001b[0m \u001b[38;5;28;01mif\u001b[39;00m obj \u001b[38;5;129;01mis\u001b[39;00m \u001b[38;5;28;01mNone\u001b[39;00m:\n\u001b[0;32m    222\u001b[0m     \u001b[38;5;66;03m# we're accessing the attribute of the class, i.e., Dataset.geo\u001b[39;00m\n\u001b[0;32m    223\u001b[0m     \u001b[38;5;28;01mreturn\u001b[39;00m \u001b[38;5;28mself\u001b[39m\u001b[38;5;241m.\u001b[39m_accessor\n\u001b[1;32m--> 224\u001b[0m accessor_obj \u001b[38;5;241m=\u001b[39m \u001b[38;5;28mself\u001b[39m\u001b[38;5;241m.\u001b[39m_accessor(obj)\n\u001b[0;32m    225\u001b[0m \u001b[38;5;66;03m# Replace the property with the accessor object. Inspired by:\u001b[39;00m\n\u001b[0;32m    226\u001b[0m \u001b[38;5;66;03m# https://www.pydanny.com/cached-property.html\u001b[39;00m\n\u001b[0;32m    227\u001b[0m \u001b[38;5;66;03m# We need to use object.__setattr__ because we overwrite __setattr__ on\u001b[39;00m\n\u001b[0;32m    228\u001b[0m \u001b[38;5;66;03m# NDFrame\u001b[39;00m\n\u001b[0;32m    229\u001b[0m \u001b[38;5;28mobject\u001b[39m\u001b[38;5;241m.\u001b[39m\u001b[38;5;21m__setattr__\u001b[39m(obj, \u001b[38;5;28mself\u001b[39m\u001b[38;5;241m.\u001b[39m_name, accessor_obj)\n",
      "File \u001b[1;32mC:\\ProgramData\\anaconda3\\Lib\\site-packages\\pandas\\core\\indexes\\accessors.py:608\u001b[0m, in \u001b[0;36mCombinedDatetimelikeProperties.__new__\u001b[1;34m(cls, data)\u001b[0m\n\u001b[0;32m    605\u001b[0m \u001b[38;5;28;01melif\u001b[39;00m \u001b[38;5;28misinstance\u001b[39m(data\u001b[38;5;241m.\u001b[39mdtype, PeriodDtype):\n\u001b[0;32m    606\u001b[0m     \u001b[38;5;28;01mreturn\u001b[39;00m PeriodProperties(data, orig)\n\u001b[1;32m--> 608\u001b[0m \u001b[38;5;28;01mraise\u001b[39;00m \u001b[38;5;167;01mAttributeError\u001b[39;00m(\u001b[38;5;124m\"\u001b[39m\u001b[38;5;124mCan only use .dt accessor with datetimelike values\u001b[39m\u001b[38;5;124m\"\u001b[39m)\n",
      "\u001b[1;31mAttributeError\u001b[0m: Can only use .dt accessor with datetimelike values"
     ]
    },
    {
     "data": {
      "text/plain": [
       "<Figure size 640x480 with 0 Axes>"
      ]
     },
     "metadata": {},
     "output_type": "display_data"
    }
   ],
   "source": [
    "# release date by year\n",
    "plt.figure()\n",
    "steam['release_date'].dt.year.value_counts().sort_index().plot(kind = 'line')\n",
    "plt.ylabel('Releases')\n",
    "plt.title('Releases Grow by Years')\n",
    "plt.show()"
   ]
  },
  {
   "cell_type": "code",
   "execution_count": null,
   "id": "6461e69c",
   "metadata": {},
   "outputs": [],
   "source": [
    "# release date by year, exclude 2025 and 2024 (since our data is collected till mid 2024, it's incomplete)\n",
    "plt.figure()\n",
    "steam['release_date'].dt.year.value_counts().sort_index()[:-2].plot(kind = 'line')\n",
    "plt.ylabel('Releases')\n",
    "plt.title('Releases Grow by Years')\n",
    "plt.show()"
   ]
  },
  {
   "cell_type": "code",
   "execution_count": null,
   "id": "0b7a868d",
   "metadata": {
    "scrolled": true
   },
   "outputs": [],
   "source": [
    "steam.head(n=10)"
   ]
  },
  {
   "cell_type": "markdown",
   "id": "35e823ef",
   "metadata": {},
   "source": [
    "## 6.2 Visualisation of `owners` and `release_date` by year \n",
    "Visualising the distribution of ownership categories across different release year"
   ]
  },
  {
   "cell_type": "code",
   "execution_count": null,
   "id": "e1a4791f",
   "metadata": {
    "scrolled": true
   },
   "outputs": [],
   "source": [
    "release_years = []\n",
    "total_releases = []\n",
    "\n",
    "for year in sorted(df['release_year'].unique()):\n",
    "    if year < 2006 or year > 2023:\n",
    "        continue  # Ignore years outside the range\n",
    "\n",
    "    # Subset by release year\n",
    "    year_df = df[df['release_year'] == year]\n",
    "\n",
    "    # Check if there are games for this year\n",
    "    if len(year_df) == 0:\n",
    "        continue  # Skip years with no games\n",
    "\n",
    "    # Calculate total releases for the year\n",
    "    total_releases.append(year_df.shape[0])\n",
    "    release_years.append(year)\n",
    "\n",
    "# Check if any data was found within the specified year range\n",
    "if not release_years:\n",
    "    print(\"No data found for release years between 2006 and 2023.\")\n",
    "else:\n",
    "    # Create DataFrame for visualization (single column)\n",
    "    owners_df = pd.DataFrame({'Release Year': release_years, 'Total Releases': total_releases})\n",
    "\n",
    "    # Create a bar chart for total releases\n",
    "    ax = owners_df.plot(x='Release Year', y='Total Releases', kind='bar', color='tab:blue')\n",
    "\n",
    "    ax.set_xlabel('Release Year')\n",
    "    ax.set_ylabel('Number of Releases')\n",
    "    ax.set_title('Number of Game Releases by Year (estimated by number of owners)')\n",
    "    sns.despine()\n",
    "    plt.show()\n"
   ]
  },
  {
   "cell_type": "markdown",
   "id": "3bab7166",
   "metadata": {},
   "source": [
    "Visualising the distribution of ownership categories (under 20,000 and over 20,000 owners) across different release years using a **stacked bar chart**"
   ]
  },
  {
   "cell_type": "code",
   "execution_count": null,
   "id": "d9e7ef55",
   "metadata": {},
   "outputs": [],
   "source": [
    "df = steam.copy()\n",
    "\n",
    "release_years = []  \n",
    "low_ownership = []\n",
    "high_ownership = []\n",
    "\n",
    "for year in sorted(df['release_year'].unique()):\n",
    "    if year < 2006 or year > 2023:\n",
    "        # Ignore years outside the range (adjust if needed)\n",
    "        continue\n",
    "\n",
    "    # Subset by release year\n",
    "    year_df = df[df['release_year'] == year]\n",
    "\n",
    "    # Calculate owner count categories (adjust thresholds if needed)\n",
    "    total_low_ownership = year_df[year_df['owners'] <= 20000].shape[0]\n",
    "    total_high_ownership = year_df[year_df['owners'] > 20000].shape[0]\n",
    "\n",
    "    release_years.append(year)\n",
    "    low_ownership.append(total_low_ownership)\n",
    "    high_ownership.append(total_high_ownership)\n",
    "\n",
    "# Create DataFrame for visualization\n",
    "owners_df = pd.DataFrame(zip(release_years, low_ownership, high_ownership),\n",
    "                          columns=['Release Year', 'Games with less than 20,000 Owners', 'Games with more than 20,000 Owners'])\n",
    "\n",
    "ax = owners_df.plot(x='Release Year', y=[1, 2], kind='bar', stacked=True, color=['tab:blue', 'gray'])\n",
    "\n",
    "ax.set_xlabel('')\n",
    "ax.set_ylabel('Number of Releases')\n",
    "ax.set_title('Number of releases by year (estimated by number of owners)')\n",
    "sns.despine()\n",
    "plt.show()"
   ]
  },
  {
   "cell_type": "markdown",
   "id": "615462ee",
   "metadata": {
    "jp-MarkdownHeadingCollapsed": true
   },
   "source": [
    "## 6.3 Analysis \n",
    "- Games released more recently won't have had the same amount of time to generate sales as games released a long time ago. (wym by this 0-0)  \n",
    "- Steam was released in the September 2003 but it was unheard of till the winter sale in 2008 when it started gaining popularity. This coincides with the stacked bar chart we see above. \n",
    "- Furthermore we are able to see that games released before 2014 tend to have very little owners. This could because steam was still relatively unknwon before 2014. This could also be because before 2014, PC gaming garned very little attention, most gamers were still in the era of handheld consoles like switch and even XBox, Wii etc. \n",
    "\n",
    "Possible Insights from the Trend:\n",
    "- **Spike from 2014**: Around 2014 and 2015, gaming on PC started to garner more attention among gamers because of the improvement of technology thus the improvement of gaming on PC. Game distrubers and software clients like steam were able to capatalise on this trend, increase the number of players buying and playing games using their software. \n",
    "- **Easier Steam Access**: Platforms like Steam Greenlight (2012) and Steam Direct (2017) made it easier for independent developers to publish games. No wonder during (2012-2017) we see a significant increase.\n",
    "- **Covid-19 Pandemic**: A noticeable increase from 2019 to 2020 and stays high till 2022. Lockdowns and stay-at-home orders led to a surge in video game playing. This increased demand might have incentivised developers to release games even during challenging circumstances."
   ]
  },
  {
   "cell_type": "markdown",
   "id": "77cfd24a",
   "metadata": {},
   "source": [
    "## 7. Categorical Columns\n",
    "Analysing columns which have categorical data: [`english`, `developer`, `publisher`]"
   ]
  },
  {
   "cell_type": "code",
   "execution_count": null,
   "id": "98134c95",
   "metadata": {},
   "outputs": [],
   "source": [
    "# categorical columns\n",
    "steam_cat = ['english', 'developer', 'publisher']"
   ]
  },
  {
   "cell_type": "markdown",
   "id": "bab15e7f",
   "metadata": {},
   "source": [
    "## 7.1 English Column"
   ]
  },
  {
   "cell_type": "code",
   "execution_count": null,
   "id": "56f3fa25",
   "metadata": {
    "scrolled": true
   },
   "outputs": [],
   "source": [
    "column = 'english'\n",
    "plt.figure(figsize = (10, 8))\n",
    "df = steam[column].value_counts()\n",
    "df.head(2).plot(kind = 'barh')\n",
    "#df.plot(kind = 'barh')\n",
    "plt.gca().invert_yaxis()\n",
    "plt.xlabel(column)\n",
    "plt.ylabel('Frequency')\n",
    "plt.title(column)\n",
    "plt.show()\n",
    "print(f'Total number of categories in {column}: {len(df)}')\n",
    "print(df.head(2))\n",
    "#print(df)\n",
    "print('\\n')"
   ]
  },
  {
   "cell_type": "markdown",
   "id": "16fed5a6",
   "metadata": {},
   "source": [
    "## 7.1 Observation\n",
    "- **English Plot:** We can see from the 1st plot an overwhelming number of games support english **(96%)**, ratio of 59.9k : 2.1k. The game might need to be able to be played in English for it to be successful. However, this might not be case as our English column only takes into account games that support English or Not. Games that support English might also support other languages. \n",
    "- Nonetheless being able to play the game in the English language seems like a very common feature among all the games on Steam \n",
    "\n",
    "**(Maybe can plot English with Popularity (nid define) of game)**"
   ]
  },
  {
   "cell_type": "markdown",
   "id": "0621afce",
   "metadata": {},
   "source": [
    "## 7.2 Developers Column"
   ]
  },
  {
   "cell_type": "code",
   "execution_count": null,
   "id": "a4536b75",
   "metadata": {
    "scrolled": true
   },
   "outputs": [],
   "source": [
    "# only top 30 frequent categories for developer are plotted\n",
    "column = 'developer'\n",
    "plt.figure(figsize = (10, 8))\n",
    "df = steam[column].value_counts()\n",
    "df.head(30).plot(kind = 'barh')\n",
    "#df.plot(kind = 'barh')\n",
    "plt.gca().invert_yaxis()\n",
    "plt.xlabel(column)\n",
    "plt.ylabel('Frequency')\n",
    "plt.title(column)\n",
    "plt.show()\n",
    "print(f'Total number of categories in {column}: {len(df)}')\n",
    "print(df.head(30))\n",
    "#print(df)\n",
    "print('\\n')"
   ]
  },
  {
   "cell_type": "markdown",
   "id": "1a67a0f5",
   "metadata": {},
   "source": [
    "## 7.2 Observation\n",
    "- In the horizontal bar chart above, even though theres only the 30 top developers shown, we can see a difference in distribution. About 20 out of 35,718 developers have developed more than 50 games while the rest is less of that. This is an important observtion as this could prove to be a double edged sword. \n",
    "- Although Choice of Games has 170 games developed and released on steam, the popularity of these games might not be high. This might be due to factors such as not having the manpower to maintain these games with newer games being developed.\n",
    "- On the flip side, the high number of games developed might be an indicator that a developer is able to develop good quality games. The repuation of the developer might push or pull gamers away from playing their games. <br>\n",
    "\n",
    "**(this could be another thing to explore, developers and the games they produce)**"
   ]
  },
  {
   "cell_type": "markdown",
   "id": "d27349c8",
   "metadata": {},
   "source": [
    "## 7.3 Publishers Column"
   ]
  },
  {
   "cell_type": "code",
   "execution_count": null,
   "id": "09ee2d0c",
   "metadata": {
    "scrolled": true
   },
   "outputs": [],
   "source": [
    "# only top 30 frequent categories for publiser are plotted\n",
    "column = 'publisher'\n",
    "plt.figure(figsize = (10, 8))\n",
    "df = steam[column].value_counts()\n",
    "df.head(30).plot(kind = 'barh')\n",
    "#df.plot(kind = 'barh')\n",
    "plt.gca().invert_yaxis()\n",
    "plt.xlabel(column)\n",
    "plt.ylabel('Frequency')\n",
    "plt.title(column)\n",
    "plt.show()\n",
    "print(f'Total number of categories in {column}: {len(df)}')\n",
    "print(df.head(30))\n",
    "#print(df)\n",
    "print('\\n')"
   ]
  },
  {
   "cell_type": "markdown",
   "id": "f6fd1099",
   "metadata": {},
   "source": [
    "## 7.3 Observation\n",
    "- In the horizontal bar chart above, similarly, only the top 30 publishers are shown. There is a clear distribution being shown here as almost all of the top 30 has more than 100 games published. The top publisher Big Fish Games has published almost 500 games, almost twice as much as the 2nd placed publisher 8 floor. This is a huge difference especially if compared to the rest of the publishers.\n",
    "- Publishers might not face the same manpower constraints as the developers as publishers do not need to develop the game. However the combination of certain developers and publishers might be an interesting point to look at. Gamers might be more willing to play games published by certain publishers or even a combination of both\n",
    "\n",
    "**(maybe can look into the combination of (developer,publisher) with relation to popularity of games**"
   ]
  },
  {
   "cell_type": "markdown",
   "id": "68d0187d",
   "metadata": {},
   "source": [
    "## 8. Numeric Columns\n",
    "Our Numeric Columns include:  \n",
    " **8.1  `positive_ratings`**   \n",
    " **8.2  `negative_ratings`**    \n",
    " **8.3   `average_playtime`**    \n",
    " **8.4   `median_playtime`**   \n",
    " **8.5  `price`**"
   ]
  },
  {
   "cell_type": "code",
   "execution_count": 13,
   "id": "cae568b4",
   "metadata": {},
   "outputs": [],
   "source": [
    "# numeric columns\n",
    "steam_num = ['positive_ratings', 'negative_ratings', 'average_playtime', 'median_playtime', 'price']"
   ]
  },
  {
   "cell_type": "code",
   "execution_count": 14,
   "id": "d86d9b53",
   "metadata": {
    "scrolled": true
   },
   "outputs": [
    {
     "data": {
      "image/png": "[encoded data removed]",
      "text/plain": [
       "<Figure size 1000x800 with 1 Axes>"
      ]
     },
     "metadata": {},
     "output_type": "display_data"
    },
    {
     "name": "stdout",
     "output_type": "stream",
     "text": [
      "\n",
      "\n"
     ]
    },
    {
     "data": {
      "image/png": "[encoded data removed]",
      "text/plain": [
       "<Figure size 1000x800 with 1 Axes>"
      ]
     },
     "metadata": {},
     "output_type": "display_data"
    },
    {
     "name": "stdout",
     "output_type": "stream",
     "text": [
      "\n",
      "\n"
     ]
    },
    {
     "data": {
      "image/png": "[encoded data removed]",
      "text/plain": [
       "<Figure size 1000x800 with 1 Axes>"
      ]
     },
     "metadata": {},
     "output_type": "display_data"
    },
    {
     "name": "stdout",
     "output_type": "stream",
     "text": [
      "\n",
      "\n"
     ]
    },
    {
     "data": {
      "image/png": "[encoded data removed]",
      "text/plain": [
       "<Figure size 1000x800 with 1 Axes>"
      ]
     },
     "metadata": {},
     "output_type": "display_data"
    },
    {
     "name": "stdout",
     "output_type": "stream",
     "text": [
      "\n",
      "\n"
     ]
    },
    {
     "data": {
      "image/png": "[encoded data removed]",
      "text/plain": [
       "<Figure size 1000x800 with 1 Axes>"
      ]
     },
     "metadata": {},
     "output_type": "display_data"
    },
    {
     "name": "stdout",
     "output_type": "stream",
     "text": [
      "\n",
      "\n"
     ]
    }
   ],
   "source": [
    "# visualize all numeric columns\n",
    "for col in steam_num:\n",
    "  plt.figure(figsize = (10, 8))\n",
    "  steam[col].plot(kind = 'hist', bins = 50)\n",
    "  plt.xlabel(col)\n",
    "  plt.ylabel('Frequency')\n",
    "  plt.title(col)\n",
    "  plt.show()\n",
    "  print('\\n')"
   ]
  },
  {
   "cell_type": "markdown",
   "id": "15aff84a",
   "metadata": {},
   "source": [
    "Um. The data is extremely skewed. Let's exclude the outliers and zoom in..\n",
    "## dk which data are being removed might be a good idea to print them out before removing"
   ]
  },
  {
   "cell_type": "code",
   "execution_count": 15,
   "id": "06c10036",
   "metadata": {},
   "outputs": [],
   "source": [
    "# write a function to remove outliers\n",
    "# In the definition of box plots, values < Q1 - 1.5 IQR and values > Q3 + 1.5 IQR are the outliers\n",
    "def remove_outliers(data):\n",
    "  Q1 = data.quantile(0.25)\n",
    "  Q3 = data.quantile(0.75)\n",
    "  IQR = Q3-Q1\n",
    "  data_outlier_excluded = data[(data >= Q1 - (1.5 * IQR)) & (data <= Q3 + (1.5 * IQR))]\n",
    "  return data_outlier_excluded"
   ]
  },
  {
   "cell_type": "markdown",
   "id": "2367db28",
   "metadata": {},
   "source": [
    "## 8.1 `positive_ratings`\n",
    "Let's look at the top 10 games with the most positive ratings "
   ]
  },
  {
   "cell_type": "code",
   "execution_count": 16,
   "id": "b9841ef2",
   "metadata": {},
   "outputs": [
    {
     "data": {
      "text/html": [
       "<div>\n",
       "<style scoped>\n",
       "    .dataframe tbody tr th:only-of-type {\n",
       "        vertical-align: middle;\n",
       "    }\n",
       "\n",
       "    .dataframe tbody tr th {\n",
       "        vertical-align: top;\n",
       "    }\n",
       "\n",
       "    .dataframe thead th {\n",
       "        text-align: right;\n",
       "    }\n",
       "</style>\n",
       "<table border=\"1\" class=\"dataframe\">\n",
       "  <thead>\n",
       "    <tr style=\"text-align: right;\">\n",
       "      <th></th>\n",
       "      <th>name</th>\n",
       "      <th>positive_ratings</th>\n",
       "    </tr>\n",
       "  </thead>\n",
       "  <tbody>\n",
       "    <tr>\n",
       "      <th>22</th>\n",
       "      <td>Counter-Strike 2</td>\n",
       "      <td>6976943</td>\n",
       "    </tr>\n",
       "    <tr>\n",
       "      <th>19</th>\n",
       "      <td>Dota 2</td>\n",
       "      <td>1812144</td>\n",
       "    </tr>\n",
       "    <tr>\n",
       "      <th>12578</th>\n",
       "      <td>PUBG: BATTLEGROUNDS</td>\n",
       "      <td>1361485</td>\n",
       "    </tr>\n",
       "    <tr>\n",
       "      <th>1116</th>\n",
       "      <td>Terraria</td>\n",
       "      <td>1241092</td>\n",
       "    </tr>\n",
       "    <tr>\n",
       "      <th>5115</th>\n",
       "      <td>Tom Clancy's Rainbow Six® Siege</td>\n",
       "      <td>1081208</td>\n",
       "    </tr>\n",
       "    <tr>\n",
       "      <th>124</th>\n",
       "      <td>Garry's Mod</td>\n",
       "      <td>1024266</td>\n",
       "    </tr>\n",
       "    <tr>\n",
       "      <th>1975</th>\n",
       "      <td>Rust</td>\n",
       "      <td>911251</td>\n",
       "    </tr>\n",
       "    <tr>\n",
       "      <th>18</th>\n",
       "      <td>Left 4 Dead 2</td>\n",
       "      <td>825777</td>\n",
       "    </tr>\n",
       "    <tr>\n",
       "      <th>7519</th>\n",
       "      <td>Wallpaper Engine</td>\n",
       "      <td>751158</td>\n",
       "    </tr>\n",
       "    <tr>\n",
       "      <th>36335</th>\n",
       "      <td>ELDEN RING</td>\n",
       "      <td>742616</td>\n",
       "    </tr>\n",
       "  </tbody>\n",
       "</table>\n",
       "</div>"
      ],
      "text/plain": [
       "                                  name  positive_ratings\n",
       "22                    Counter-Strike 2           6976943\n",
       "19                              Dota 2           1812144\n",
       "12578              PUBG: BATTLEGROUNDS           1361485\n",
       "1116                          Terraria           1241092\n",
       "5115   Tom Clancy's Rainbow Six® Siege           1081208\n",
       "124                        Garry's Mod           1024266\n",
       "1975                              Rust            911251\n",
       "18                       Left 4 Dead 2            825777\n",
       "7519                  Wallpaper Engine            751158\n",
       "36335                       ELDEN RING            742616"
      ]
     },
     "execution_count": 16,
     "metadata": {},
     "output_type": "execute_result"
    }
   ],
   "source": [
    "# top 10 game by positive ratings\n",
    "steam.sort_values(by = 'positive_ratings', ascending = False).head(10)[['name', 'positive_ratings']]"
   ]
  },
  {
   "cell_type": "markdown",
   "id": "41838022",
   "metadata": {},
   "source": [
    "Now the distribution:"
   ]
  },
  {
   "cell_type": "code",
   "execution_count": null,
   "id": "1bec86a4",
   "metadata": {
    "scrolled": true
   },
   "outputs": [],
   "source": [
    "# plot the distribution of positive ratings\n",
    "plt.figure()\n",
    "steam['positive_ratings'].value_counts().sort_index().plot()\n",
    "plt.xlabel('Positive Ratings')\n",
    "plt.ylabel('Frequency')\n",
    "plt.title('Need to Exclude the Outliers')\n",
    "plt.show()"
   ]
  },
  {
   "cell_type": "code",
   "execution_count": null,
   "id": "4919e73d",
   "metadata": {},
   "outputs": [],
   "source": [
    "# exclude outliers from positive_ratings\n",
    "pos_r = steam['positive_ratings']\n",
    "pos_r_ex = remove_outliers(pos_r)\n",
    "\n",
    "# plot the distribution of positive ratings\n",
    "plt.figure()\n",
    "pos_r_ex.plot(kind = 'hist', bins = 50)\n",
    "plt.xlabel('Positive Ratings')\n",
    "plt.ylabel('Frequency')\n",
    "plt.title('Most Games are not Frequently Rated')\n",
    "plt.show()\n",
    "\n",
    "# conclusion\n",
    "print('total games:', len(pos_r))\n",
    "print('games with positive ratings outliers excluded:', len(pos_r_ex))"
   ]
  },
  {
   "cell_type": "markdown",
   "id": "88f16370",
   "metadata": {},
   "source": [
    "Most Games are not frequently rated though. \n",
    "**E"
   ]
  },
  {
   "cell_type": "markdown",
   "id": "f25b9799",
   "metadata": {},
   "source": [
    "## 8.2 `negative_ratings`\n",
    "Top 10 with the most negative ratings"
   ]
  },
  {
   "cell_type": "code",
   "execution_count": null,
   "id": "b9a64a96",
   "metadata": {},
   "outputs": [],
   "source": [
    "steam.sort_values(by = 'negative_ratings', ascending = False).head(10)[['name', 'negative_ratings']]"
   ]
  },
  {
   "cell_type": "markdown",
   "id": "79694b73",
   "metadata": {},
   "source": [
    "A lot of overlap. Mostly because of popularity. <br>\n",
    "\n",
    "We should look at the ratio instead. The table below is sorted with ratio of pos:neg. The highest ratio being at the top."
   ]
  },
  {
   "cell_type": "code",
   "execution_count": null,
   "id": "da04aabf",
   "metadata": {},
   "outputs": [],
   "source": [
    "# ratio of positive/negative ratings\n",
    "pos_neg_ratio = steam['positive_ratings'] / (steam['negative_ratings'] + 1) # +1 to avoid zero divisions\n",
    "top_ratios_id = pos_neg_ratio.sort_values(ascending = False).head(10).index\n",
    "\n",
    "steam.loc[top_ratios_id]"
   ]
  },
  {
   "cell_type": "markdown",
   "id": "412e5778",
   "metadata": {},
   "source": [
    "## 8.3 Analysis `negative` & `positive` ratings\n",
    "In conclusion, rank the games with number of positive ratings but still show the negative ratings.\n",
    "- Some of the games in the top 10 have high ratios but are not very popular. \n",
    "- These games have 0 average and median playtime, some have less than 20,000 owners <br>\n",
    "\n",
    "Although the ratios might not be a good indicator of a popular game, the positive and negative ratings are still important indicators. The ratings provide developers with feedback from gamers, helping the developers improve their game in the long run."
   ]
  },
  {
   "cell_type": "code",
   "execution_count": null,
   "id": "c05debee",
   "metadata": {},
   "outputs": [],
   "source": [
    "ratings = pd.DataFrame(steam[['positive_ratings', 'negative_ratings']])\n",
    "ratings.head()"
   ]
  },
  {
   "cell_type": "code",
   "execution_count": null,
   "id": "aae20b9d",
   "metadata": {
    "scrolled": true
   },
   "outputs": [],
   "source": [
    "# Correlation Matrix\n",
    "print(ratings.corr())\n",
    "\n",
    "# Heatmap of the Correlation Matrix\n",
    "f = plt.figure(figsize=(8, 8))\n",
    "sb.heatmap(ratings.corr(), vmin = -1, vmax = 1, linewidths = 1,\n",
    "           annot = True, fmt = \".2f\", annot_kws = {\"size\": 18}, cmap = \"RdBu\")"
   ]
  },
  {
   "cell_type": "code",
   "execution_count": null,
   "id": "28acb58e",
   "metadata": {},
   "outputs": [],
   "source": [
    "# Draw pairs of variables against one another\n",
    "#sns.scatterplot(ratings)\n",
    "ax = sns.scatterplot(x=\"negative_ratings\", y=\"positive_ratings\", data=ratings)"
   ]
  },
  {
   "cell_type": "markdown",
   "id": "172e311d",
   "metadata": {},
   "source": [
    "## 8.3 Observation\n",
    "From the HeatMap and ScatterPlot, we can see that the positive and negative ratings have a high correlation of 0.81 with each other. This might be due to the differing opinions of players who own the game. Thus the both `ratings` column might not be good columns to use when evaluating whether a game is popular or not."
   ]
  },
  {
   "cell_type": "markdown",
   "id": "1757c0af",
   "metadata": {},
   "source": [
    "## 8.4 `average_playtime`\n",
    "in minutes"
   ]
  },
  {
   "cell_type": "code",
   "execution_count": null,
   "id": "ab0e394d",
   "metadata": {},
   "outputs": [],
   "source": [
    "# check 0 values in average_playtime\n",
    "print('total games:', steam.shape[0])\n",
    "print('games with average playtime != 0:', steam[steam['average_playtime'] != 0].shape[0])"
   ]
  },
  {
   "cell_type": "code",
   "execution_count": null,
   "id": "b00971c2",
   "metadata": {},
   "outputs": [],
   "source": [
    "# Percentage = ((playtime !=0) / total games) * 100\n",
    "print('Percentage of total Games played:', (steam[steam['average_playtime'] != 0].shape[0]/steam.shape[0])*100)"
   ]
  },
  {
   "cell_type": "markdown",
   "id": "faa2d543",
   "metadata": {},
   "source": [
    "### Observation\n",
    "As we can see from the percentage, out of the **62,056** games on steam, only **24%** of them are being played by the users of steam. This is a very low percentage as this indicates some games haven't been played since its release <br> \n",
    "\n",
    "(maybe can display these games against the year they are released)"
   ]
  },
  {
   "cell_type": "code",
   "execution_count": null,
   "id": "1d84adae",
   "metadata": {},
   "outputs": [],
   "source": [
    "# top 10 games with longest average playtime\n",
    "steam.sort_values(by = 'average_playtime', ascending = False).head(n=10)"
   ]
  },
  {
   "cell_type": "markdown",
   "id": "d141dfe1",
   "metadata": {},
   "source": [
    "### 8.4 Observation\n",
    "- The 1st game on the top of the list has an `average_playtime` of about 151,000 minutes. That equates to an astounding **2,500 hours** of playtime on average. <br>\n",
    "\n",
    "- Another interesting observation is that 2 games in the top 5 have less than 50,000 owners. This is quite unexpected as usually a high number of copies of a game would have a high number of playtime recorded. This is an interesting outlier which may be present in other cases. \n",
    "- There may even be cases where a game with high number of copies has a low average_playtime which is another outlier \n",
    "\n"
   ]
  },
  {
   "cell_type": "markdown",
   "id": "81ae0f76",
   "metadata": {},
   "source": [
    "## 8.5 Price\n",
    "(maybe need to check the game with the highest price here)\n",
    "We shall do a chart to have an overall view of the distribution of game cost."
   ]
  },
  {
   "cell_type": "code",
   "execution_count": null,
   "id": "cb1b97f9",
   "metadata": {},
   "outputs": [],
   "source": [
    "steam.sort_values(by = 'price', ascending = False).head(10)[['name', 'price']]"
   ]
  },
  {
   "cell_type": "code",
   "execution_count": null,
   "id": "568cc64b",
   "metadata": {},
   "outputs": [],
   "source": [
    "# exclude the outliers in price\n",
    "price = steam['price']\n",
    "price_ex = remove_outliers(price)\n",
    "\n",
    "# plot the distribution of price\n",
    "plt.figure()\n",
    "price_ex.plot(kind = 'hist', bins = 20)\n",
    "plt.xlabel('Price')\n",
    "plt.title('Distribution of Games Cost in SGD')\n",
    "plt.show()\n"
   ]
  },
  {
   "cell_type": "markdown",
   "id": "179ea138",
   "metadata": {},
   "source": [
    "## 8.5.1 Distribution of Game Costs with Actual Playtime\n",
    "- Most games are generally cheap, with many being free.\n",
    "- However, the previous chart includes prices of those games with very little or zero playtime too.\n",
    "- We shall create a chart that shows the price distribution for games people actually play (more than 0 hours playtime).\n",
    "- We shall exclude games with 0 `average_playtime`"
   ]
  },
  {
   "cell_type": "code",
   "execution_count": null,
   "id": "c977d40d",
   "metadata": {},
   "outputs": [],
   "source": [
    "# Plot the distribution of prices for games with non-zero playtime\n",
    "plt.figure()\n",
    "remove_outliers(steam[steam['average_playtime'] != 0]['price']).plot(kind='hist', bins=20)\n",
    "plt.xlabel('Price')\n",
    "plt.title('Distribution of games with non-zero Playtime')\n",
    "plt.show()"
   ]
  },
  {
   "cell_type": "markdown",
   "id": "8744d1a3",
   "metadata": {},
   "source": [
    "## 8.5.2 Estimated Revenue from Steam Purchases ( `owners` and `price`)\n",
    "**Calculating Revenue for Each Game**: We calculate the revenue for each game by multiplying the number of owners (`owners1`) by the price of the game (`price`). This gives us an estimate of the total revenue generated from sales of each game.  \n",
    "\n",
    "**Labeling Release Year-Month**: We label each game with its release year and month by converting the release date (`release_date`) to a formatted string representing the year and month (`release_year_month`).  \n",
    "\n",
    "This visualization helps us understand the revenue trends over time."
   ]
  },
  {
   "cell_type": "code",
   "execution_count": null,
   "id": "9b952752",
   "metadata": {},
   "outputs": [],
   "source": [
    "# Create a DataFrame to store the calculated revenue\n",
    "sales = pd.DataFrame()\n",
    "\n",
    "# Calculate revenue for each game\n",
    "sales['revenue'] = steam['owners'] * steam['price']\n",
    "\n",
    "# Label the release year-month of each game\n",
    "sales['release_year_month'] = steam['release_date'].apply(lambda x: x.strftime(\"%Y-%m\"))\n",
    "\n",
    "# Display the DataFrame\n",
    "sales.head()\n"
   ]
  },
  {
   "cell_type": "code",
   "execution_count": null,
   "id": "20e6962c",
   "metadata": {},
   "outputs": [],
   "source": [
    "#plotting an overall revenue by release year and month\n",
    "plt.figure(figsize = (12, 8))\n",
    "sales.groupby('release_year_month').sum()['revenue'].plot()\n",
    "plt.ylabel('Revenue')\n",
    "plt.title('Revenue by Release Time')\n",
    "plt.show()"
   ]
  },
  {
   "cell_type": "markdown",
   "id": "c40cac46",
   "metadata": {},
   "source": [
    "## Analysis:\n",
    "-It's tempting to assume that video games become increasingly profitable over time, but the data available (price distribution and playtime) doesn't provide a clear confirmation of this trend.\n",
    "- `release_date` alone is an unreliable profitability indicator, as gamers often purchase well-received titles long after their initial release.\n",
    "- We can only estimate based on release date and possible trends over the years.\n"
   ]
  },
  {
   "cell_type": "markdown",
   "id": "62f78a94",
   "metadata": {},
   "source": [
    "## 8.5.3 Visuallising Games with the Highest Revenue (Based on Steam Purchases)\n",
    "**Checking Games with Highest Revenue**: We identify the games with the highest revenue by sorting the sales DataFrame by revenue (revenue) in descending order. Then, we select the top N games with the highest revenue.  \n",
    "\n",
    "**Visualizing Top Games with Highest Revenue**: We plotted a horizontal bar chart to visualize the revenue of the top games."
   ]
  },
  {
   "cell_type": "code",
   "execution_count": null,
   "id": "7a453032",
   "metadata": {},
   "outputs": [],
   "source": [
    "#Checking the games with highest revenue\n",
    "sales.index = steam['name']\n",
    "sales.sort_values(['revenue'], ascending = False).head()"
   ]
  },
  {
   "cell_type": "code",
   "execution_count": null,
   "id": "8aa61d6f",
   "metadata": {},
   "outputs": [],
   "source": [
    "# Sort the sales DataFrame by 'revenue' column in descending order\n",
    "sorted_sales = sales.sort_values(by='revenue', ascending=False)\n",
    "\n",
    "# Select the top N games with the highest revenue\n",
    "top_games = sorted_sales.head(10)\n",
    "\n",
    "# Plot a horizontal bar chart to visualize the revenue of the top games\n",
    "plt.figure()\n",
    "top_games.plot(kind='barh', y='revenue', legend=False)\n",
    "plt.gca().invert_yaxis()  # Invert y-axis to display the highest revenue game at the top\n",
    "plt.xlabel('Revenue')\n",
    "plt.ylabel('Game')\n",
    "plt.title('Top 10 Games with Highest Revenue by Steam Purchases (Owners x Price)')\n",
    "plt.show()\n"
   ]
  },
  {
   "cell_type": "markdown",
   "id": "07a75e95",
   "metadata": {},
   "source": [
    "## Analysis of Top-performing games in terms of sales revenue\n",
    "- `New World` appears to be the top-grossing game on this list with an estimated revenue of 5.499 billion, released in September 2021.\n",
    "- `Cyberpunk 2077`, despite its release in September 2020, holds the second position with a revenue of 3.45 billion.\n",
    "\n",
    "**Limitations**:\n",
    "- It's important to note that this estimation is based on available data and may not capture all revenue streams such as downloadable content (DLC) or in-game purchases, which could contribute significantly to a game's total revenue.\n",
    "- The revenue figures might not account for regional variations or discounts."
   ]
  },
  {
   "cell_type": "code",
   "execution_count": null,
   "id": "2c2cd2a7",
   "metadata": {},
   "outputs": [],
   "source": []
  },
  {
   "cell_type": "code",
   "execution_count": null,
   "id": "61aaeb1f",
   "metadata": {},
   "outputs": [],
   "source": []
  }
 ],
 "metadata": {
  "kernelspec": {
   "display_name": "Python 3 (ipykernel)",
   "language": "python",
   "name": "python3"
  },
  "language_info": {
   "codemirror_mode": {
    "name": "ipython",
    "version": 3
   },
   "file_extension": ".py",
   "mimetype": "text/x-python",
   "name": "python",
   "nbconvert_exporter": "python",
   "pygments_lexer": "ipython3",
   "version": "3.11.7"
  }
 },
 "nbformat": 4,
 "nbformat_minor": 5
}
